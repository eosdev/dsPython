{
 "cells": [
  {
   "cell_type": "code",
   "execution_count": 1,
   "metadata": {},
   "outputs": [],
   "source": [
    "#Bibliotecas para manipulação dos dados\n",
    "import pandas as pd\n",
    "import numpy as np\n",
    "from datetime import datetime,date\n",
    "\n",
    "import numpy as np\n",
    "from pandas import read_excel\n",
    "import matplotlib.mlab as mlab\n",
    "import matplotlib.pyplot as plt\n",
    "import seaborn as sns\n",
    "import statistics as st\n",
    "import scipy.stats as stats\n",
    "import statsmodels.api as sm\n",
    "import re"
   ]
  },
  {
   "cell_type": "code",
   "execution_count": 24,
   "metadata": {},
   "outputs": [],
   "source": [
    "email = pd.read_excel ('D:/ML/Emails/database_sample.xlsx')"
   ]
  },
  {
   "cell_type": "code",
   "execution_count": 25,
   "metadata": {},
   "outputs": [
    {
     "data": {
      "text/html": [
       "<div>\n",
       "<style scoped>\n",
       "    .dataframe tbody tr th:only-of-type {\n",
       "        vertical-align: middle;\n",
       "    }\n",
       "\n",
       "    .dataframe tbody tr th {\n",
       "        vertical-align: top;\n",
       "    }\n",
       "\n",
       "    .dataframe thead th {\n",
       "        text-align: right;\n",
       "    }\n",
       "</style>\n",
       "<table border=\"1\" class=\"dataframe\">\n",
       "  <thead>\n",
       "    <tr style=\"text-align: right;\">\n",
       "      <th></th>\n",
       "      <th>Category</th>\n",
       "      <th>Company name</th>\n",
       "      <th>Address</th>\n",
       "      <th>ZIP Code</th>\n",
       "      <th>City</th>\n",
       "      <th>Region</th>\n",
       "      <th>Telephone</th>\n",
       "      <th>Fax</th>\n",
       "      <th>Email</th>\n",
       "    </tr>\n",
       "  </thead>\n",
       "  <tbody>\n",
       "    <tr>\n",
       "      <td>0</td>\n",
       "      <td>Hotels</td>\n",
       "      <td>y Gl Hotel</td>\n",
       "      <td>Strada Comunale di Acaya Km. 2</td>\n",
       "      <td>73029</td>\n",
       "      <td>Vernole</td>\n",
       "      <td>Puglia</td>\n",
       "      <td>0 6</td>\n",
       "      <td>NaN</td>\n",
       "      <td>info@azienda.it</td>\n",
       "    </tr>\n",
       "    <tr>\n",
       "      <td>1</td>\n",
       "      <td>Travel and tourism agencies</td>\n",
       "      <td>eetu &amp; Travel</td>\n",
       "      <td>Via Pasubio 122</td>\n",
       "      <td>70125</td>\n",
       "      <td>Bari</td>\n",
       "      <td>Puglia</td>\n",
       "      <td>9466</td>\n",
       "      <td>NaN</td>\n",
       "      <td>email@azienda.it</td>\n",
       "    </tr>\n",
       "    <tr>\n",
       "      <td>2</td>\n",
       "      <td>Travel and tourism agencies</td>\n",
       "      <td>eti Tus Di Bendi Tuistik Sn</td>\n",
       "      <td>Via Mercato Vecchio 11</td>\n",
       "      <td>39042</td>\n",
       "      <td>Bressanone</td>\n",
       "      <td>Trentino</td>\n",
       "      <td>470094</td>\n",
       "      <td>470096</td>\n",
       "      <td>info@azienda.it</td>\n",
       "    </tr>\n",
       "    <tr>\n",
       "      <td>3</td>\n",
       "      <td>Advertising and marketing</td>\n",
       "      <td>John &amp; Wle</td>\n",
       "      <td>Via B. Marcello 63</td>\n",
       "      <td>20124</td>\n",
       "      <td>Milano</td>\n",
       "      <td>Lombardia</td>\n",
       "      <td>9</td>\n",
       "      <td>4</td>\n",
       "      <td>info@azienda.it</td>\n",
       "    </tr>\n",
       "    <tr>\n",
       "      <td>4</td>\n",
       "      <td>Advertising and marketing</td>\n",
       "      <td>stm Srl</td>\n",
       "      <td>Via Delle Stelline 1</td>\n",
       "      <td>20146</td>\n",
       "      <td>Milano</td>\n",
       "      <td>Lombardia</td>\n",
       "      <td>4690</td>\n",
       "      <td>60477</td>\n",
       "      <td>email@azienda.it</td>\n",
       "    </tr>\n",
       "  </tbody>\n",
       "</table>\n",
       "</div>"
      ],
      "text/plain": [
       "                      Category                 Company name  \\\n",
       "0                       Hotels                   y Gl Hotel   \n",
       "1  Travel and tourism agencies                eetu & Travel   \n",
       "2  Travel and tourism agencies  eti Tus Di Bendi Tuistik Sn   \n",
       "3    Advertising and marketing                   John & Wle   \n",
       "4    Advertising and marketing                      stm Srl   \n",
       "\n",
       "                          Address ZIP Code        City     Region Telephone  \\\n",
       "0  Strada Comunale di Acaya Km. 2    73029     Vernole     Puglia       0 6   \n",
       "1                 Via Pasubio 122    70125        Bari     Puglia      9466   \n",
       "2          Via Mercato Vecchio 11    39042  Bressanone   Trentino    470094   \n",
       "3              Via B. Marcello 63    20124      Milano  Lombardia         9   \n",
       "4            Via Delle Stelline 1    20146      Milano  Lombardia      4690   \n",
       "\n",
       "      Fax             Email  \n",
       "0     NaN   info@azienda.it  \n",
       "1     NaN  email@azienda.it  \n",
       "2  470096   info@azienda.it  \n",
       "3       4   info@azienda.it  \n",
       "4   60477  email@azienda.it  "
      ]
     },
     "execution_count": 25,
     "metadata": {},
     "output_type": "execute_result"
    }
   ],
   "source": [
    "email.head()"
   ]
  },
  {
   "cell_type": "code",
   "execution_count": 26,
   "metadata": {},
   "outputs": [],
   "source": [
    " email2 = email[['Email']]"
   ]
  },
  {
   "cell_type": "code",
   "execution_count": 27,
   "metadata": {},
   "outputs": [
    {
     "data": {
      "text/html": [
       "<div>\n",
       "<style scoped>\n",
       "    .dataframe tbody tr th:only-of-type {\n",
       "        vertical-align: middle;\n",
       "    }\n",
       "\n",
       "    .dataframe tbody tr th {\n",
       "        vertical-align: top;\n",
       "    }\n",
       "\n",
       "    .dataframe thead th {\n",
       "        text-align: right;\n",
       "    }\n",
       "</style>\n",
       "<table border=\"1\" class=\"dataframe\">\n",
       "  <thead>\n",
       "    <tr style=\"text-align: right;\">\n",
       "      <th></th>\n",
       "      <th>Email</th>\n",
       "    </tr>\n",
       "  </thead>\n",
       "  <tbody>\n",
       "    <tr>\n",
       "      <td>0</td>\n",
       "      <td>info@azienda.it</td>\n",
       "    </tr>\n",
       "    <tr>\n",
       "      <td>1</td>\n",
       "      <td>email@azienda.it</td>\n",
       "    </tr>\n",
       "    <tr>\n",
       "      <td>2</td>\n",
       "      <td>info@azienda.it</td>\n",
       "    </tr>\n",
       "    <tr>\n",
       "      <td>3</td>\n",
       "      <td>info@azienda.it</td>\n",
       "    </tr>\n",
       "    <tr>\n",
       "      <td>4</td>\n",
       "      <td>email@azienda.it</td>\n",
       "    </tr>\n",
       "    <tr>\n",
       "      <td>...</td>\n",
       "      <td>...</td>\n",
       "    </tr>\n",
       "    <tr>\n",
       "      <td>94</td>\n",
       "      <td>email@company.com</td>\n",
       "    </tr>\n",
       "    <tr>\n",
       "      <td>95</td>\n",
       "      <td>info@company.com</td>\n",
       "    </tr>\n",
       "    <tr>\n",
       "      <td>96</td>\n",
       "      <td>email@company.com</td>\n",
       "    </tr>\n",
       "    <tr>\n",
       "      <td>97</td>\n",
       "      <td>info@company.com</td>\n",
       "    </tr>\n",
       "    <tr>\n",
       "      <td>98</td>\n",
       "      <td>email@company.com</td>\n",
       "    </tr>\n",
       "  </tbody>\n",
       "</table>\n",
       "<p>99 rows × 1 columns</p>\n",
       "</div>"
      ],
      "text/plain": [
       "                Email\n",
       "0     info@azienda.it\n",
       "1    email@azienda.it\n",
       "2     info@azienda.it\n",
       "3     info@azienda.it\n",
       "4    email@azienda.it\n",
       "..                ...\n",
       "94  email@company.com\n",
       "95   info@company.com\n",
       "96  email@company.com\n",
       "97   info@company.com\n",
       "98  email@company.com\n",
       "\n",
       "[99 rows x 1 columns]"
      ]
     },
     "execution_count": 27,
     "metadata": {},
     "output_type": "execute_result"
    }
   ],
   "source": [
    " email2"
   ]
  },
  {
   "cell_type": "code",
   "execution_count": 28,
   "metadata": {},
   "outputs": [
    {
     "name": "stderr",
     "output_type": "stream",
     "text": [
      "D:\\Programas\\Anaconda\\lib\\site-packages\\ipykernel_launcher.py:1: SettingWithCopyWarning: \n",
      "A value is trying to be set on a copy of a slice from a DataFrame.\n",
      "Try using .loc[row_indexer,col_indexer] = value instead\n",
      "\n",
      "See the caveats in the documentation: http://pandas.pydata.org/pandas-docs/stable/user_guide/indexing.html#returning-a-view-versus-a-copy\n",
      "  \"\"\"Entry point for launching an IPython kernel.\n"
     ]
    }
   ],
   "source": [
    "email2['Dominio'] =  email2['Email'].str.split('@').str[1]"
   ]
  },
  {
   "cell_type": "code",
   "execution_count": 29,
   "metadata": {},
   "outputs": [
    {
     "data": {
      "text/html": [
       "<div>\n",
       "<style scoped>\n",
       "    .dataframe tbody tr th:only-of-type {\n",
       "        vertical-align: middle;\n",
       "    }\n",
       "\n",
       "    .dataframe tbody tr th {\n",
       "        vertical-align: top;\n",
       "    }\n",
       "\n",
       "    .dataframe thead th {\n",
       "        text-align: right;\n",
       "    }\n",
       "</style>\n",
       "<table border=\"1\" class=\"dataframe\">\n",
       "  <thead>\n",
       "    <tr style=\"text-align: right;\">\n",
       "      <th></th>\n",
       "      <th>Email</th>\n",
       "      <th>Dominio</th>\n",
       "    </tr>\n",
       "  </thead>\n",
       "  <tbody>\n",
       "    <tr>\n",
       "      <td>0</td>\n",
       "      <td>info@azienda.it</td>\n",
       "      <td>azienda.it</td>\n",
       "    </tr>\n",
       "    <tr>\n",
       "      <td>1</td>\n",
       "      <td>email@azienda.it</td>\n",
       "      <td>azienda.it</td>\n",
       "    </tr>\n",
       "    <tr>\n",
       "      <td>2</td>\n",
       "      <td>info@azienda.it</td>\n",
       "      <td>azienda.it</td>\n",
       "    </tr>\n",
       "    <tr>\n",
       "      <td>3</td>\n",
       "      <td>info@azienda.it</td>\n",
       "      <td>azienda.it</td>\n",
       "    </tr>\n",
       "    <tr>\n",
       "      <td>4</td>\n",
       "      <td>email@azienda.it</td>\n",
       "      <td>azienda.it</td>\n",
       "    </tr>\n",
       "  </tbody>\n",
       "</table>\n",
       "</div>"
      ],
      "text/plain": [
       "              Email     Dominio\n",
       "0   info@azienda.it  azienda.it\n",
       "1  email@azienda.it  azienda.it\n",
       "2   info@azienda.it  azienda.it\n",
       "3   info@azienda.it  azienda.it\n",
       "4  email@azienda.it  azienda.it"
      ]
     },
     "execution_count": 29,
     "metadata": {},
     "output_type": "execute_result"
    }
   ],
   "source": [
    "email2.head()"
   ]
  },
  {
   "cell_type": "code",
   "execution_count": 30,
   "metadata": {},
   "outputs": [],
   "source": [
    "regex = '^\\w+([\\.-]?\\w+)*@\\w+([\\.-]?\\w+)*(\\.\\w{2,3})+$'\n",
    "\n",
    "#^.+@([?)[a-zA-Z0-9-.]+.([a-zA-Z]{2,3}|[0-9]{1,3})(]?)$\""
   ]
  },
  {
   "cell_type": "code",
   "execution_count": 31,
   "metadata": {},
   "outputs": [],
   "source": [
    "def check(Email):  \n",
    "  \n",
    "    # pass the regualar expression \n",
    "    # and the string in search() method \n",
    "    if(re.search(regex,Email)):  \n",
    "        return 'Valid Email'  \n",
    "          \n",
    "    else:  \n",
    "        return 'Invalid Email' "
   ]
  },
  {
   "cell_type": "code",
   "execution_count": 32,
   "metadata": {},
   "outputs": [
    {
     "name": "stderr",
     "output_type": "stream",
     "text": [
      "D:\\Programas\\Anaconda\\lib\\site-packages\\ipykernel_launcher.py:1: SettingWithCopyWarning: \n",
      "A value is trying to be set on a copy of a slice from a DataFrame.\n",
      "Try using .loc[row_indexer,col_indexer] = value instead\n",
      "\n",
      "See the caveats in the documentation: http://pandas.pydata.org/pandas-docs/stable/user_guide/indexing.html#returning-a-view-versus-a-copy\n",
      "  \"\"\"Entry point for launching an IPython kernel.\n"
     ]
    }
   ],
   "source": [
    "email2['is_valid_email'] = email2['Email'].apply(lambda x:check(x))"
   ]
  },
  {
   "cell_type": "code",
   "execution_count": 33,
   "metadata": {},
   "outputs": [
    {
     "data": {
      "text/html": [
       "<div>\n",
       "<style scoped>\n",
       "    .dataframe tbody tr th:only-of-type {\n",
       "        vertical-align: middle;\n",
       "    }\n",
       "\n",
       "    .dataframe tbody tr th {\n",
       "        vertical-align: top;\n",
       "    }\n",
       "\n",
       "    .dataframe thead th {\n",
       "        text-align: right;\n",
       "    }\n",
       "</style>\n",
       "<table border=\"1\" class=\"dataframe\">\n",
       "  <thead>\n",
       "    <tr style=\"text-align: right;\">\n",
       "      <th></th>\n",
       "      <th>Email</th>\n",
       "      <th>Dominio</th>\n",
       "      <th>is_valid_email</th>\n",
       "    </tr>\n",
       "  </thead>\n",
       "  <tbody>\n",
       "    <tr>\n",
       "      <td>0</td>\n",
       "      <td>info@azienda.it</td>\n",
       "      <td>azienda.it</td>\n",
       "      <td>Valid Email</td>\n",
       "    </tr>\n",
       "    <tr>\n",
       "      <td>1</td>\n",
       "      <td>email@azienda.it</td>\n",
       "      <td>azienda.it</td>\n",
       "      <td>Valid Email</td>\n",
       "    </tr>\n",
       "    <tr>\n",
       "      <td>2</td>\n",
       "      <td>info@azienda.it</td>\n",
       "      <td>azienda.it</td>\n",
       "      <td>Valid Email</td>\n",
       "    </tr>\n",
       "    <tr>\n",
       "      <td>3</td>\n",
       "      <td>info@azienda.it</td>\n",
       "      <td>azienda.it</td>\n",
       "      <td>Valid Email</td>\n",
       "    </tr>\n",
       "    <tr>\n",
       "      <td>4</td>\n",
       "      <td>email@azienda.it</td>\n",
       "      <td>azienda.it</td>\n",
       "      <td>Valid Email</td>\n",
       "    </tr>\n",
       "  </tbody>\n",
       "</table>\n",
       "</div>"
      ],
      "text/plain": [
       "              Email     Dominio is_valid_email\n",
       "0   info@azienda.it  azienda.it    Valid Email\n",
       "1  email@azienda.it  azienda.it    Valid Email\n",
       "2   info@azienda.it  azienda.it    Valid Email\n",
       "3   info@azienda.it  azienda.it    Valid Email\n",
       "4  email@azienda.it  azienda.it    Valid Email"
      ]
     },
     "execution_count": 33,
     "metadata": {},
     "output_type": "execute_result"
    }
   ],
   "source": [
    "email2.head()"
   ]
  },
  {
   "cell_type": "code",
   "execution_count": 34,
   "metadata": {},
   "outputs": [],
   "source": [
    "email2.to_excel('email2.xlsx', index=False)"
   ]
  },
  {
   "cell_type": "code",
   "execution_count": null,
   "metadata": {},
   "outputs": [],
   "source": []
  }
 ],
 "metadata": {
  "kernelspec": {
   "display_name": "Python 3",
   "language": "python",
   "name": "python3"
  },
  "language_info": {
   "codemirror_mode": {
    "name": "ipython",
    "version": 3
   },
   "file_extension": ".py",
   "mimetype": "text/x-python",
   "name": "python",
   "nbconvert_exporter": "python",
   "pygments_lexer": "ipython3",
   "version": "3.7.4"
  }
 },
 "nbformat": 4,
 "nbformat_minor": 2
}
