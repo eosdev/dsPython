{
 "cells": [
  {
   "cell_type": "code",
   "execution_count": null,
   "metadata": {},
   "outputs": [],
   "source": [
    "#Análise de sentimento exercício final"
   ]
  },
  {
   "cell_type": "code",
   "execution_count": 1,
   "metadata": {},
   "outputs": [],
   "source": [
    "import numpy as np \n",
    "import pandas as pd\n",
    "import warnings\n",
    "warnings.filterwarnings('ignore')\n",
    "\n",
    "import re\n",
    "import string\n",
    "import nltk \n",
    "from nltk.corpus import stopwords\n",
    "\n",
    "#Visualization libraries\n",
    "import matplotlib.pyplot as plt\n",
    "import seaborn as sns\n",
    "from wordcloud import WordCloud,STOPWORDS\n",
    "\n",
    "%matplotlib inline\n",
    "###For downlaod the nltk\n",
    "########nltk.download()"
   ]
  },
  {
   "cell_type": "code",
   "execution_count": 2,
   "metadata": {},
   "outputs": [],
   "source": [
    "from bs4 import BeautifulSoup\n",
    "from gensim.models import word2vec\n",
    "from nltk.corpus import stopwords\n",
    "from sklearn.ensemble import RandomForestClassifier\n",
    "from sklearn.feature_extraction.text import CountVectorizer\n",
    "from sklearn.metrics import make_scorer, roc_auc_score\n",
    "from sklearn.model_selection import GridSearchCV\n",
    "from tqdm import tqdm_notebook\n",
    "import re\n",
    "from sklearn.metrics import accuracy_score, roc_auc_score, roc_curve\n",
    "\n",
    "from sklearn.feature_extraction.text import CountVectorizer\n",
    "from sklearn.feature_extraction.text import TfidfTransformer\n",
    "from sklearn.model_selection import train_test_split"
   ]
  },
  {
   "cell_type": "code",
   "execution_count": 3,
   "metadata": {},
   "outputs": [],
   "source": [
    "#Importando os documentos de treino e teste\n",
    "train = pd.read_csv('C:/Users/Eden/Documents/PUC-MG - Inteligência Artifical e Aprendizado de Máquina/AS/labeledTrainData.tsv',\n",
    "encoding='latin-1',sep = '\\t',low_memory = False)"
   ]
  },
  {
   "cell_type": "code",
   "execution_count": 4,
   "metadata": {},
   "outputs": [],
   "source": [
    "test = pd.read_csv('C:/Users/Eden/Documents/PUC-MG - Inteligência Artifical e Aprendizado de Máquina/AS/testDataset.tsv',encoding='latin-1', \n",
    "                   sep = '\\t', low_memory = False)"
   ]
  },
  {
   "cell_type": "code",
   "execution_count": 5,
   "metadata": {},
   "outputs": [
    {
     "data": {
      "text/html": [
       "<div>\n",
       "<style scoped>\n",
       "    .dataframe tbody tr th:only-of-type {\n",
       "        vertical-align: middle;\n",
       "    }\n",
       "\n",
       "    .dataframe tbody tr th {\n",
       "        vertical-align: top;\n",
       "    }\n",
       "\n",
       "    .dataframe thead th {\n",
       "        text-align: right;\n",
       "    }\n",
       "</style>\n",
       "<table border=\"1\" class=\"dataframe\">\n",
       "  <thead>\n",
       "    <tr style=\"text-align: right;\">\n",
       "      <th></th>\n",
       "      <th>id</th>\n",
       "      <th>sentiment</th>\n",
       "      <th>review</th>\n",
       "    </tr>\n",
       "  </thead>\n",
       "  <tbody>\n",
       "    <tr>\n",
       "      <th>0</th>\n",
       "      <td>5814_8</td>\n",
       "      <td>1</td>\n",
       "      <td>With all this stuff going down at the moment w...</td>\n",
       "    </tr>\n",
       "    <tr>\n",
       "      <th>1</th>\n",
       "      <td>2381_9</td>\n",
       "      <td>1</td>\n",
       "      <td>\\The Classic War of the Worlds\\\" by Timothy Hi...</td>\n",
       "    </tr>\n",
       "    <tr>\n",
       "      <th>2</th>\n",
       "      <td>7759_3</td>\n",
       "      <td>0</td>\n",
       "      <td>The film starts with a manager (Nicholas Bell)...</td>\n",
       "    </tr>\n",
       "    <tr>\n",
       "      <th>3</th>\n",
       "      <td>3630_4</td>\n",
       "      <td>0</td>\n",
       "      <td>It must be assumed that those who praised this...</td>\n",
       "    </tr>\n",
       "    <tr>\n",
       "      <th>4</th>\n",
       "      <td>9495_8</td>\n",
       "      <td>1</td>\n",
       "      <td>Superbly trashy and wondrously unpretentious 8...</td>\n",
       "    </tr>\n",
       "  </tbody>\n",
       "</table>\n",
       "</div>"
      ],
      "text/plain": [
       "       id  sentiment                                             review\n",
       "0  5814_8          1  With all this stuff going down at the moment w...\n",
       "1  2381_9          1  \\The Classic War of the Worlds\\\" by Timothy Hi...\n",
       "2  7759_3          0  The film starts with a manager (Nicholas Bell)...\n",
       "3  3630_4          0  It must be assumed that those who praised this...\n",
       "4  9495_8          1  Superbly trashy and wondrously unpretentious 8..."
      ]
     },
     "execution_count": 5,
     "metadata": {},
     "output_type": "execute_result"
    }
   ],
   "source": [
    "#visualizar as cinco primeiras linhas\n",
    "train.head()"
   ]
  },
  {
   "cell_type": "code",
   "execution_count": 6,
   "metadata": {},
   "outputs": [
    {
     "data": {
      "text/html": [
       "<div>\n",
       "<style scoped>\n",
       "    .dataframe tbody tr th:only-of-type {\n",
       "        vertical-align: middle;\n",
       "    }\n",
       "\n",
       "    .dataframe tbody tr th {\n",
       "        vertical-align: top;\n",
       "    }\n",
       "\n",
       "    .dataframe thead th {\n",
       "        text-align: right;\n",
       "    }\n",
       "</style>\n",
       "<table border=\"1\" class=\"dataframe\">\n",
       "  <thead>\n",
       "    <tr style=\"text-align: right;\">\n",
       "      <th></th>\n",
       "      <th>id</th>\n",
       "      <th>sentiment</th>\n",
       "      <th>review</th>\n",
       "    </tr>\n",
       "  </thead>\n",
       "  <tbody>\n",
       "    <tr>\n",
       "      <th>24995</th>\n",
       "      <td>3453_3</td>\n",
       "      <td>0</td>\n",
       "      <td>It seems like more consideration has gone into...</td>\n",
       "    </tr>\n",
       "    <tr>\n",
       "      <th>24996</th>\n",
       "      <td>5064_1</td>\n",
       "      <td>0</td>\n",
       "      <td>I don't believe they made this film. Completel...</td>\n",
       "    </tr>\n",
       "    <tr>\n",
       "      <th>24997</th>\n",
       "      <td>10905_3</td>\n",
       "      <td>0</td>\n",
       "      <td>Guy is a loser. Can't get girls, needs to buil...</td>\n",
       "    </tr>\n",
       "    <tr>\n",
       "      <th>24998</th>\n",
       "      <td>10194_3</td>\n",
       "      <td>0</td>\n",
       "      <td>This 30 minute documentary BuÃ±uel made in the...</td>\n",
       "    </tr>\n",
       "    <tr>\n",
       "      <th>24999</th>\n",
       "      <td>8478_8</td>\n",
       "      <td>1</td>\n",
       "      <td>I saw this movie as a child and it broke my he...</td>\n",
       "    </tr>\n",
       "  </tbody>\n",
       "</table>\n",
       "</div>"
      ],
      "text/plain": [
       "            id  sentiment                                             review\n",
       "24995   3453_3          0  It seems like more consideration has gone into...\n",
       "24996   5064_1          0  I don't believe they made this film. Completel...\n",
       "24997  10905_3          0  Guy is a loser. Can't get girls, needs to buil...\n",
       "24998  10194_3          0  This 30 minute documentary BuÃ±uel made in the...\n",
       "24999   8478_8          1  I saw this movie as a child and it broke my he..."
      ]
     },
     "execution_count": 6,
     "metadata": {},
     "output_type": "execute_result"
    }
   ],
   "source": [
    "#visualizar as cinco últimas linhas\n",
    "train.tail()"
   ]
  },
  {
   "cell_type": "code",
   "execution_count": 7,
   "metadata": {},
   "outputs": [
    {
     "name": "stdout",
     "output_type": "stream",
     "text": [
      "<class 'pandas.core.frame.DataFrame'>\n",
      "RangeIndex: 25000 entries, 0 to 24999\n",
      "Data columns (total 3 columns):\n",
      "id           25000 non-null object\n",
      "sentiment    25000 non-null int64\n",
      "review       25000 non-null object\n",
      "dtypes: int64(1), object(2)\n",
      "memory usage: 586.0+ KB\n"
     ]
    }
   ],
   "source": [
    "train.info()"
   ]
  },
  {
   "cell_type": "code",
   "execution_count": 8,
   "metadata": {},
   "outputs": [
    {
     "data": {
      "text/html": [
       "<div>\n",
       "<style scoped>\n",
       "    .dataframe tbody tr th:only-of-type {\n",
       "        vertical-align: middle;\n",
       "    }\n",
       "\n",
       "    .dataframe tbody tr th {\n",
       "        vertical-align: top;\n",
       "    }\n",
       "\n",
       "    .dataframe thead th {\n",
       "        text-align: right;\n",
       "    }\n",
       "</style>\n",
       "<table border=\"1\" class=\"dataframe\">\n",
       "  <thead>\n",
       "    <tr style=\"text-align: right;\">\n",
       "      <th></th>\n",
       "      <th>sentiment</th>\n",
       "      <th>0</th>\n",
       "      <th>1</th>\n",
       "    </tr>\n",
       "  </thead>\n",
       "  <tbody>\n",
       "    <tr>\n",
       "      <th rowspan=\"4\" valign=\"top\">id</th>\n",
       "      <th>count</th>\n",
       "      <td>12500</td>\n",
       "      <td>12500</td>\n",
       "    </tr>\n",
       "    <tr>\n",
       "      <th>unique</th>\n",
       "      <td>12500</td>\n",
       "      <td>12500</td>\n",
       "    </tr>\n",
       "    <tr>\n",
       "      <th>top</th>\n",
       "      <td>4859_1</td>\n",
       "      <td>814_10</td>\n",
       "    </tr>\n",
       "    <tr>\n",
       "      <th>freq</th>\n",
       "      <td>1</td>\n",
       "      <td>1</td>\n",
       "    </tr>\n",
       "    <tr>\n",
       "      <th rowspan=\"4\" valign=\"top\">review</th>\n",
       "      <th>count</th>\n",
       "      <td>12500</td>\n",
       "      <td>12500</td>\n",
       "    </tr>\n",
       "    <tr>\n",
       "      <th>unique</th>\n",
       "      <td>12432</td>\n",
       "      <td>12472</td>\n",
       "    </tr>\n",
       "    <tr>\n",
       "      <th>top</th>\n",
       "      <td>How has this piece of crap stayed on TV this l...</td>\n",
       "      <td>Love it, love it, love it! This is another abs...</td>\n",
       "    </tr>\n",
       "    <tr>\n",
       "      <th>freq</th>\n",
       "      <td>3</td>\n",
       "      <td>2</td>\n",
       "    </tr>\n",
       "  </tbody>\n",
       "</table>\n",
       "</div>"
      ],
      "text/plain": [
       "sentiment                                                      0  \\\n",
       "id     count                                               12500   \n",
       "       unique                                              12500   \n",
       "       top                                                4859_1   \n",
       "       freq                                                    1   \n",
       "review count                                               12500   \n",
       "       unique                                              12432   \n",
       "       top     How has this piece of crap stayed on TV this l...   \n",
       "       freq                                                    3   \n",
       "\n",
       "sentiment                                                      1  \n",
       "id     count                                               12500  \n",
       "       unique                                              12500  \n",
       "       top                                                814_10  \n",
       "       freq                                                    1  \n",
       "review count                                               12500  \n",
       "       unique                                              12472  \n",
       "       top     Love it, love it, love it! This is another abs...  \n",
       "       freq                                                    2  "
      ]
     },
     "execution_count": 8,
     "metadata": {},
     "output_type": "execute_result"
    }
   ],
   "source": [
    "#visualizando os dados agrupados\n",
    "train.groupby('sentiment').describe().transpose()"
   ]
  },
  {
   "cell_type": "code",
   "execution_count": 9,
   "metadata": {},
   "outputs": [
    {
     "data": {
      "text/html": [
       "<div>\n",
       "<style scoped>\n",
       "    .dataframe tbody tr th:only-of-type {\n",
       "        vertical-align: middle;\n",
       "    }\n",
       "\n",
       "    .dataframe tbody tr th {\n",
       "        vertical-align: top;\n",
       "    }\n",
       "\n",
       "    .dataframe thead th {\n",
       "        text-align: right;\n",
       "    }\n",
       "</style>\n",
       "<table border=\"1\" class=\"dataframe\">\n",
       "  <thead>\n",
       "    <tr style=\"text-align: right;\">\n",
       "      <th></th>\n",
       "      <th>id</th>\n",
       "      <th>sentiment</th>\n",
       "      <th>review</th>\n",
       "      <th>tamanho</th>\n",
       "    </tr>\n",
       "  </thead>\n",
       "  <tbody>\n",
       "    <tr>\n",
       "      <th>0</th>\n",
       "      <td>5814_8</td>\n",
       "      <td>1</td>\n",
       "      <td>With all this stuff going down at the moment w...</td>\n",
       "      <td>2302</td>\n",
       "    </tr>\n",
       "    <tr>\n",
       "      <th>1</th>\n",
       "      <td>2381_9</td>\n",
       "      <td>1</td>\n",
       "      <td>\\The Classic War of the Worlds\\\" by Timothy Hi...</td>\n",
       "      <td>946</td>\n",
       "    </tr>\n",
       "    <tr>\n",
       "      <th>2</th>\n",
       "      <td>7759_3</td>\n",
       "      <td>0</td>\n",
       "      <td>The film starts with a manager (Nicholas Bell)...</td>\n",
       "      <td>2455</td>\n",
       "    </tr>\n",
       "    <tr>\n",
       "      <th>3</th>\n",
       "      <td>3630_4</td>\n",
       "      <td>0</td>\n",
       "      <td>It must be assumed that those who praised this...</td>\n",
       "      <td>2245</td>\n",
       "    </tr>\n",
       "    <tr>\n",
       "      <th>4</th>\n",
       "      <td>9495_8</td>\n",
       "      <td>1</td>\n",
       "      <td>Superbly trashy and wondrously unpretentious 8...</td>\n",
       "      <td>2233</td>\n",
       "    </tr>\n",
       "  </tbody>\n",
       "</table>\n",
       "</div>"
      ],
      "text/plain": [
       "       id  sentiment                                             review  \\\n",
       "0  5814_8          1  With all this stuff going down at the moment w...   \n",
       "1  2381_9          1  \\The Classic War of the Worlds\\\" by Timothy Hi...   \n",
       "2  7759_3          0  The film starts with a manager (Nicholas Bell)...   \n",
       "3  3630_4          0  It must be assumed that those who praised this...   \n",
       "4  9495_8          1  Superbly trashy and wondrously unpretentious 8...   \n",
       "\n",
       "   tamanho  \n",
       "0     2302  \n",
       "1      946  \n",
       "2     2455  \n",
       "3     2245  \n",
       "4     2233  "
      ]
     },
     "execution_count": 9,
     "metadata": {},
     "output_type": "execute_result"
    }
   ],
   "source": [
    "#Criando uma nova coluna com o tamanho das strings\n",
    "train['tamanho'] = train['review'].apply(len)\n",
    "train.head()"
   ]
  },
  {
   "cell_type": "code",
   "execution_count": 10,
   "metadata": {},
   "outputs": [
    {
     "data": {
      "text/plain": [
       "<matplotlib.axes._subplots.AxesSubplot at 0x1b62fa6a860>"
      ]
     },
     "execution_count": 10,
     "metadata": {},
     "output_type": "execute_result"
    },
    {
     "data": {
      "image/png": "[encoded data removed]",
      "text/plain": [
       "<Figure size 432x288 with 1 Axes>"
      ]
     },
     "metadata": {
      "needs_background": "light"
     },
     "output_type": "display_data"
    }
   ],
   "source": [
    "#Criando um box-plot para avaliar a concentração das palavras\n",
    "fig = plt.figure()\n",
    "fig.suptitle('BoxPlot Palavras')\n",
    "sns.boxplot(data=train['tamanho'], orient=\"v\", palette=\"Set2\")"
   ]
  },
  {
   "cell_type": "code",
   "execution_count": 11,
   "metadata": {},
   "outputs": [
    {
     "data": {
      "text/plain": [
       "<matplotlib.axes._subplots.AxesSubplot at 0x1b6301e5b00>"
      ]
     },
     "execution_count": 11,
     "metadata": {},
     "output_type": "execute_result"
    },
    {
     "data": {
      "image/png": "[encoded data removed]",
      "text/plain": [
       "<Figure size 432x288 with 1 Axes>"
      ]
     },
     "metadata": {
      "needs_background": "light"
     },
     "output_type": "display_data"
    }
   ],
   "source": [
    "# Histograma de distribuição das palavras\n",
    "fig = plt.figure()\n",
    "fig.suptitle('Histograma de Palavras')\n",
    "sns.distplot( a=train['tamanho'],bins=20, kde=True,\n",
    "kde_kws={\"color\": \"r\", \"alpha\":0.3, \"linewidth\": 5, \"shade\":True })"
   ]
  },
  {
   "cell_type": "code",
   "execution_count": 12,
   "metadata": {},
   "outputs": [],
   "source": [
    "#Separando os arquivos de treino para os sentimentos  positivos e negativos\n",
    "positivo = train[(train.sentiment == 0)]\n",
    "negativo = train[(train.sentiment == 1)]"
   ]
  },
  {
   "cell_type": "code",
   "execution_count": 13,
   "metadata": {},
   "outputs": [
    {
     "data": {
      "text/html": [
       "<div>\n",
       "<style scoped>\n",
       "    .dataframe tbody tr th:only-of-type {\n",
       "        vertical-align: middle;\n",
       "    }\n",
       "\n",
       "    .dataframe tbody tr th {\n",
       "        vertical-align: top;\n",
       "    }\n",
       "\n",
       "    .dataframe thead th {\n",
       "        text-align: right;\n",
       "    }\n",
       "</style>\n",
       "<table border=\"1\" class=\"dataframe\">\n",
       "  <thead>\n",
       "    <tr style=\"text-align: right;\">\n",
       "      <th></th>\n",
       "      <th>id</th>\n",
       "      <th>sentiment</th>\n",
       "      <th>review</th>\n",
       "      <th>tamanho</th>\n",
       "    </tr>\n",
       "  </thead>\n",
       "  <tbody>\n",
       "    <tr>\n",
       "      <th>2</th>\n",
       "      <td>7759_3</td>\n",
       "      <td>0</td>\n",
       "      <td>The film starts with a manager (Nicholas Bell)...</td>\n",
       "      <td>2455</td>\n",
       "    </tr>\n",
       "    <tr>\n",
       "      <th>3</th>\n",
       "      <td>3630_4</td>\n",
       "      <td>0</td>\n",
       "      <td>It must be assumed that those who praised this...</td>\n",
       "      <td>2245</td>\n",
       "    </tr>\n",
       "    <tr>\n",
       "      <th>6</th>\n",
       "      <td>7166_2</td>\n",
       "      <td>0</td>\n",
       "      <td>This movie could have been very good, but come...</td>\n",
       "      <td>605</td>\n",
       "    </tr>\n",
       "    <tr>\n",
       "      <th>7</th>\n",
       "      <td>10633_1</td>\n",
       "      <td>0</td>\n",
       "      <td>I watched this video at a friend's house. I'm ...</td>\n",
       "      <td>728</td>\n",
       "    </tr>\n",
       "    <tr>\n",
       "      <th>8</th>\n",
       "      <td>319_1</td>\n",
       "      <td>0</td>\n",
       "      <td>A friend of mine bought this film for Â£1, and...</td>\n",
       "      <td>964</td>\n",
       "    </tr>\n",
       "  </tbody>\n",
       "</table>\n",
       "</div>"
      ],
      "text/plain": [
       "        id  sentiment                                             review  \\\n",
       "2   7759_3          0  The film starts with a manager (Nicholas Bell)...   \n",
       "3   3630_4          0  It must be assumed that those who praised this...   \n",
       "6   7166_2          0  This movie could have been very good, but come...   \n",
       "7  10633_1          0  I watched this video at a friend's house. I'm ...   \n",
       "8    319_1          0  A friend of mine bought this film for Â£1, and...   \n",
       "\n",
       "   tamanho  \n",
       "2     2455  \n",
       "3     2245  \n",
       "6      605  \n",
       "7      728  \n",
       "8      964  "
      ]
     },
     "execution_count": 13,
     "metadata": {},
     "output_type": "execute_result"
    }
   ],
   "source": [
    "positivo.head()"
   ]
  },
  {
   "cell_type": "code",
   "execution_count": 14,
   "metadata": {},
   "outputs": [
    {
     "data": {
      "text/html": [
       "<div>\n",
       "<style scoped>\n",
       "    .dataframe tbody tr th:only-of-type {\n",
       "        vertical-align: middle;\n",
       "    }\n",
       "\n",
       "    .dataframe tbody tr th {\n",
       "        vertical-align: top;\n",
       "    }\n",
       "\n",
       "    .dataframe thead th {\n",
       "        text-align: right;\n",
       "    }\n",
       "</style>\n",
       "<table border=\"1\" class=\"dataframe\">\n",
       "  <thead>\n",
       "    <tr style=\"text-align: right;\">\n",
       "      <th></th>\n",
       "      <th>id</th>\n",
       "      <th>sentiment</th>\n",
       "      <th>review</th>\n",
       "      <th>tamanho</th>\n",
       "    </tr>\n",
       "  </thead>\n",
       "  <tbody>\n",
       "    <tr>\n",
       "      <th>0</th>\n",
       "      <td>5814_8</td>\n",
       "      <td>1</td>\n",
       "      <td>With all this stuff going down at the moment w...</td>\n",
       "      <td>2302</td>\n",
       "    </tr>\n",
       "    <tr>\n",
       "      <th>1</th>\n",
       "      <td>2381_9</td>\n",
       "      <td>1</td>\n",
       "      <td>\\The Classic War of the Worlds\\\" by Timothy Hi...</td>\n",
       "      <td>946</td>\n",
       "    </tr>\n",
       "    <tr>\n",
       "      <th>4</th>\n",
       "      <td>9495_8</td>\n",
       "      <td>1</td>\n",
       "      <td>Superbly trashy and wondrously unpretentious 8...</td>\n",
       "      <td>2233</td>\n",
       "    </tr>\n",
       "    <tr>\n",
       "      <th>5</th>\n",
       "      <td>8196_8</td>\n",
       "      <td>1</td>\n",
       "      <td>I dont know why people think this is such a ba...</td>\n",
       "      <td>441</td>\n",
       "    </tr>\n",
       "    <tr>\n",
       "      <th>9</th>\n",
       "      <td>8713_10</td>\n",
       "      <td>1</td>\n",
       "      <td>&lt;br /&gt;&lt;br /&gt;This movie is full of references. ...</td>\n",
       "      <td>245</td>\n",
       "    </tr>\n",
       "  </tbody>\n",
       "</table>\n",
       "</div>"
      ],
      "text/plain": [
       "        id  sentiment                                             review  \\\n",
       "0   5814_8          1  With all this stuff going down at the moment w...   \n",
       "1   2381_9          1  \\The Classic War of the Worlds\\\" by Timothy Hi...   \n",
       "4   9495_8          1  Superbly trashy and wondrously unpretentious 8...   \n",
       "5   8196_8          1  I dont know why people think this is such a ba...   \n",
       "9  8713_10          1  <br /><br />This movie is full of references. ...   \n",
       "\n",
       "   tamanho  \n",
       "0     2302  \n",
       "1      946  \n",
       "4     2233  \n",
       "5      441  \n",
       "9      245  "
      ]
     },
     "execution_count": 14,
     "metadata": {},
     "output_type": "execute_result"
    }
   ],
   "source": [
    "negativo.head()"
   ]
  },
  {
   "cell_type": "code",
   "execution_count": 15,
   "metadata": {},
   "outputs": [
    {
     "data": {
      "text/plain": [
       "<matplotlib.axes._subplots.AxesSubplot at 0x1b63051d400>"
      ]
     },
     "execution_count": 15,
     "metadata": {},
     "output_type": "execute_result"
    },
    {
     "data": {
      "image/png": "[encoded data removed]",
      "text/plain": [
       "<Figure size 432x288 with 1 Axes>"
      ]
     },
     "metadata": {
      "needs_background": "light"
     },
     "output_type": "display_data"
    }
   ],
   "source": [
    "# Histograma sentimento positivo\n",
    "fig = plt.figure()\n",
    "fig.suptitle('Histograma de sentimentos positivos')\n",
    "sns.distplot( a=positivo['tamanho'],bins=100, kde=True,\n",
    "kde_kws={\"color\": \"r\", \"alpha\":0.3, \"linewidth\": 5, \"shade\":True })"
   ]
  },
  {
   "cell_type": "code",
   "execution_count": 16,
   "metadata": {},
   "outputs": [
    {
     "data": {
      "text/plain": [
       "<matplotlib.axes._subplots.AxesSubplot at 0x1b6306619e8>"
      ]
     },
     "execution_count": 16,
     "metadata": {},
     "output_type": "execute_result"
    },
    {
     "data": {
      "image/png": "[encoded data removed]",
      "text/plain": [
       "<Figure size 432x288 with 1 Axes>"
      ]
     },
     "metadata": {
      "needs_background": "light"
     },
     "output_type": "display_data"
    }
   ],
   "source": [
    "# Histograma sentimento negativo\n",
    "fig = plt.figure()\n",
    "fig.suptitle('Histograma de sentimentos negativos')\n",
    "sns.distplot( a=negativo['tamanho'],bins=100, kde=True,\n",
    "kde_kws={\"color\": \"r\", \"alpha\":0.3, \"linewidth\": 5, \"shade\":True })"
   ]
  },
  {
   "cell_type": "code",
   "execution_count": 17,
   "metadata": {},
   "outputs": [
    {
     "name": "stderr",
     "output_type": "stream",
     "text": [
      "[nltk_data] Downloading package stopwords to\n",
      "[nltk_data]     C:\\Users\\Eden\\AppData\\Roaming\\nltk_data...\n",
      "[nltk_data]   Package stopwords is already up-to-date!\n"
     ]
    },
    {
     "data": {
      "text/plain": [
       "True"
      ]
     },
     "execution_count": 17,
     "metadata": {},
     "output_type": "execute_result"
    }
   ],
   "source": [
    "#conjunto de stopwords\n",
    "nltk.download('stopwords')"
   ]
  },
  {
   "cell_type": "code",
   "execution_count": 18,
   "metadata": {},
   "outputs": [],
   "source": [
    "#função criada para a limpeza dos dados\n",
    "\n",
    "def clean_text(raw_text):\n",
    "    raw_text = BeautifulSoup(raw_text).get_text()  #remover as tags html\n",
    "    letters_only = re.sub(\"[^a-zA-Z]\", \" \", raw_text) #remover strings espaços etc\n",
    "    words = letters_only.lower().split() # converter as palavras em minúsculas e separar por palavras individuais              \n",
    "    stops = set(stopwords.words(\"english\")) #Criar variável que contém um conjunto de palavras irrelevantes já importado da biblioteca ntlk                \n",
    "    return [w for w in words if not w in stops] #remover as stopwords"
   ]
  },
  {
   "cell_type": "code",
   "execution_count": 19,
   "metadata": {},
   "outputs": [
    {
     "data": {
      "text/html": [
       "<div>\n",
       "<style scoped>\n",
       "    .dataframe tbody tr th:only-of-type {\n",
       "        vertical-align: middle;\n",
       "    }\n",
       "\n",
       "    .dataframe tbody tr th {\n",
       "        vertical-align: top;\n",
       "    }\n",
       "\n",
       "    .dataframe thead th {\n",
       "        text-align: right;\n",
       "    }\n",
       "</style>\n",
       "<table border=\"1\" class=\"dataframe\">\n",
       "  <thead>\n",
       "    <tr style=\"text-align: right;\">\n",
       "      <th></th>\n",
       "      <th>id</th>\n",
       "      <th>sentiment</th>\n",
       "      <th>review</th>\n",
       "      <th>tamanho</th>\n",
       "      <th>clean_review</th>\n",
       "      <th>tamanho_clean_review</th>\n",
       "    </tr>\n",
       "  </thead>\n",
       "  <tbody>\n",
       "    <tr>\n",
       "      <th>0</th>\n",
       "      <td>5814_8</td>\n",
       "      <td>1</td>\n",
       "      <td>With all this stuff going down at the moment w...</td>\n",
       "      <td>2302</td>\n",
       "      <td>[stuff, going, moment, mj, started, listening,...</td>\n",
       "      <td>219</td>\n",
       "    </tr>\n",
       "    <tr>\n",
       "      <th>1</th>\n",
       "      <td>2381_9</td>\n",
       "      <td>1</td>\n",
       "      <td>\\The Classic War of the Worlds\\\" by Timothy Hi...</td>\n",
       "      <td>946</td>\n",
       "      <td>[classic, war, worlds, timothy, hines, enterta...</td>\n",
       "      <td>84</td>\n",
       "    </tr>\n",
       "    <tr>\n",
       "      <th>2</th>\n",
       "      <td>7759_3</td>\n",
       "      <td>0</td>\n",
       "      <td>The film starts with a manager (Nicholas Bell)...</td>\n",
       "      <td>2455</td>\n",
       "      <td>[film, starts, manager, nicholas, bell, giving...</td>\n",
       "      <td>240</td>\n",
       "    </tr>\n",
       "    <tr>\n",
       "      <th>3</th>\n",
       "      <td>3630_4</td>\n",
       "      <td>0</td>\n",
       "      <td>It must be assumed that those who praised this...</td>\n",
       "      <td>2245</td>\n",
       "      <td>[must, assumed, praised, film, greatest, filme...</td>\n",
       "      <td>189</td>\n",
       "    </tr>\n",
       "    <tr>\n",
       "      <th>4</th>\n",
       "      <td>9495_8</td>\n",
       "      <td>1</td>\n",
       "      <td>Superbly trashy and wondrously unpretentious 8...</td>\n",
       "      <td>2233</td>\n",
       "      <td>[superbly, trashy, wondrously, unpretentious, ...</td>\n",
       "      <td>210</td>\n",
       "    </tr>\n",
       "  </tbody>\n",
       "</table>\n",
       "</div>"
      ],
      "text/plain": [
       "       id  sentiment                                             review  \\\n",
       "0  5814_8          1  With all this stuff going down at the moment w...   \n",
       "1  2381_9          1  \\The Classic War of the Worlds\\\" by Timothy Hi...   \n",
       "2  7759_3          0  The film starts with a manager (Nicholas Bell)...   \n",
       "3  3630_4          0  It must be assumed that those who praised this...   \n",
       "4  9495_8          1  Superbly trashy and wondrously unpretentious 8...   \n",
       "\n",
       "   tamanho                                       clean_review  \\\n",
       "0     2302  [stuff, going, moment, mj, started, listening,...   \n",
       "1      946  [classic, war, worlds, timothy, hines, enterta...   \n",
       "2     2455  [film, starts, manager, nicholas, bell, giving...   \n",
       "3     2245  [must, assumed, praised, film, greatest, filme...   \n",
       "4     2233  [superbly, trashy, wondrously, unpretentious, ...   \n",
       "\n",
       "   tamanho_clean_review  \n",
       "0                   219  \n",
       "1                    84  \n",
       "2                   240  \n",
       "3                   189  \n",
       "4                   210  "
      ]
     },
     "execution_count": 19,
     "metadata": {},
     "output_type": "execute_result"
    }
   ],
   "source": [
    "#Revisão, limpeza e também a adição de uma nova coluna como sua contagem de palavras\n",
    "train['clean_review'] = train['review'].apply(clean_text)\n",
    "train['tamanho_clean_review'] = train['clean_review'].apply(len)\n",
    "train.head()"
   ]
  },
  {
   "cell_type": "code",
   "execution_count": 20,
   "metadata": {},
   "outputs": [
    {
     "data": {
      "text/html": [
       "<div>\n",
       "<style scoped>\n",
       "    .dataframe tbody tr th:only-of-type {\n",
       "        vertical-align: middle;\n",
       "    }\n",
       "\n",
       "    .dataframe tbody tr th {\n",
       "        vertical-align: top;\n",
       "    }\n",
       "\n",
       "    .dataframe thead th {\n",
       "        text-align: right;\n",
       "    }\n",
       "</style>\n",
       "<table border=\"1\" class=\"dataframe\">\n",
       "  <thead>\n",
       "    <tr style=\"text-align: right;\">\n",
       "      <th></th>\n",
       "      <th>sentiment</th>\n",
       "      <th>tamanho</th>\n",
       "      <th>tamanho_clean_review</th>\n",
       "    </tr>\n",
       "  </thead>\n",
       "  <tbody>\n",
       "    <tr>\n",
       "      <th>count</th>\n",
       "      <td>25000.0</td>\n",
       "      <td>25000.000</td>\n",
       "      <td>25000.000</td>\n",
       "    </tr>\n",
       "    <tr>\n",
       "      <th>mean</th>\n",
       "      <td>0.5</td>\n",
       "      <td>1327.954</td>\n",
       "      <td>119.524</td>\n",
       "    </tr>\n",
       "    <tr>\n",
       "      <th>std</th>\n",
       "      <td>0.5</td>\n",
       "      <td>1005.550</td>\n",
       "      <td>90.584</td>\n",
       "    </tr>\n",
       "    <tr>\n",
       "      <th>min</th>\n",
       "      <td>0.0</td>\n",
       "      <td>52.000</td>\n",
       "      <td>4.000</td>\n",
       "    </tr>\n",
       "    <tr>\n",
       "      <th>25%</th>\n",
       "      <td>0.0</td>\n",
       "      <td>703.000</td>\n",
       "      <td>63.000</td>\n",
       "    </tr>\n",
       "    <tr>\n",
       "      <th>50%</th>\n",
       "      <td>0.5</td>\n",
       "      <td>981.000</td>\n",
       "      <td>89.000</td>\n",
       "    </tr>\n",
       "    <tr>\n",
       "      <th>75%</th>\n",
       "      <td>1.0</td>\n",
       "      <td>1617.000</td>\n",
       "      <td>146.000</td>\n",
       "    </tr>\n",
       "    <tr>\n",
       "      <th>max</th>\n",
       "      <td>1.0</td>\n",
       "      <td>13708.000</td>\n",
       "      <td>1416.000</td>\n",
       "    </tr>\n",
       "  </tbody>\n",
       "</table>\n",
       "</div>"
      ],
      "text/plain": [
       "       sentiment    tamanho  tamanho_clean_review\n",
       "count    25000.0  25000.000             25000.000\n",
       "mean         0.5   1327.954               119.524\n",
       "std          0.5   1005.550                90.584\n",
       "min          0.0     52.000                 4.000\n",
       "25%          0.0    703.000                63.000\n",
       "50%          0.5    981.000                89.000\n",
       "75%          1.0   1617.000               146.000\n",
       "max          1.0  13708.000              1416.000"
      ]
     },
     "execution_count": 20,
     "metadata": {},
     "output_type": "execute_result"
    }
   ],
   "source": [
    "#Descrevendo as estatísticas básicas para o conjunto textual\n",
    "round(train.describe(),3)"
   ]
  },
  {
   "cell_type": "code",
   "execution_count": 21,
   "metadata": {},
   "outputs": [
    {
     "name": "stdout",
     "output_type": "stream",
     "text": [
      "This movie is terrible but it has some good effects.\n",
      "------Após a limpeza------\n",
      "['movie', 'terrible', 'good', 'effects']\n"
     ]
    }
   ],
   "source": [
    "#Comparativo após a limpesa dos dados imprimindo pela pior avaliação\n",
    "print(train[train['tamanho_clean_review'] == 4]['review'].iloc[0])\n",
    "print('------Após a limpeza------')\n",
    "print(train[train['tamanho_clean_review'] == 4]['clean_review'].iloc[0])"
   ]
  },
  {
   "cell_type": "code",
   "execution_count": 22,
   "metadata": {},
   "outputs": [
    {
     "data": {
      "image/png": "[encoded data removed]",
      "text/plain": [
       "<Figure size 1080x576 with 1 Axes>"
      ]
     },
     "metadata": {
      "needs_background": "light"
     },
     "output_type": "display_data"
    }
   ],
   "source": [
    "### Word CLoud\n",
    "#Plotando uma nuvem de palavras para o nosso conjunto de texto\n",
    "word_cloud = WordCloud(width = 1000, height = 600, stopwords = STOPWORDS, background_color = 'white').generate(\n",
    "                        ''.join(train['review']))\n",
    "\n",
    "plt.figure(figsize = (15,8))\n",
    "plt.imshow(word_cloud)\n",
    "plt.axis('off')\n",
    "plt.show()"
   ]
  },
  {
   "cell_type": "code",
   "execution_count": null,
   "metadata": {},
   "outputs": [],
   "source": [
    "#Nas revisões que foram feitas é preciso aplicar uma lista de  strings específicas, isto é, os modelos de Machine Learning entendem melhor \n",
    "#o imput dos dados\n",
    "\n",
    "#1 - Contar a frequência das palavras (frequência do termo)\n",
    "\n",
    "#2 - Dar um peso as frequências calculadas\n",
    "\n",
    "#3 - Normalizaçao do texto original"
   ]
  },
  {
   "cell_type": "code",
   "execution_count": 23,
   "metadata": {},
   "outputs": [],
   "source": [
    "bow_transf = CountVectorizer(analyzer=clean_text).fit(train['review'])"
   ]
  },
  {
   "cell_type": "code",
   "execution_count": 24,
   "metadata": {},
   "outputs": [
    {
     "name": "stdout",
     "output_type": "stream",
     "text": [
      "74065\n"
     ]
    }
   ],
   "source": [
    "print(len(bow_transf.vocabulary_))"
   ]
  },
  {
   "cell_type": "code",
   "execution_count": 25,
   "metadata": {},
   "outputs": [
    {
     "name": "stdout",
     "output_type": "stream",
     "text": [
      "The film starts with a manager (Nicholas Bell) giving welcome investors (Robert Carradine) to Primal Park . A secret project mutating a primal animal using fossilized DNA, like Â¨Jurassik ParkÂ¨, and some scientists resurrect one of nature's most fearsome predators, the Sabretooth tiger or Smilodon . Scientific ambition turns deadly, however, and when the high voltage fence is opened the creature escape and begins savagely stalking its prey - the human visitors , tourists and scientific.Meanwhile some youngsters enter in the restricted area of the security center and are attacked by a pack of large pre-historical animals which are deadlier and bigger . In addition , a security agent (Stacy Haiduk) and her mate (Brian Wimmer) fight hardly against the carnivorous Smilodons. The Sabretooths, themselves , of course, are the real star stars and they are astounding terrifyingly though not convincing. The giant animals savagely are stalking its prey and the group run afoul and fight against one nature's most fearsome predators. Furthermore a third Sabretooth more dangerous and slow stalks its victims.<br /><br />The movie delivers the goods with lots of blood and gore as beheading, hair-raising chills,full of scares when the Sabretooths appear with mediocre special effects.The story provides exciting and stirring entertainment but it results to be quite boring .The giant animals are majority made by computer generator and seem totally lousy .Middling performances though the players reacting appropriately to becoming food.Actors give vigorously physical performances dodging the beasts ,running,bound and leaps or dangling over walls . And it packs a ridiculous final deadly scene. No for small kids by realistic,gory and violent attack scenes . Other films about Sabretooths or Smilodon are the following : Â¨Sabretooth(2002)Â¨by James R Hickox with Vanessa Angel, David Keith and John Rhys Davies and the much better Â¨10.000 BC(2006)Â¨ by Roland Emmerich with with Steven Strait, Cliff Curtis and Camilla Belle. This motion picture filled with bloody moments is badly directed by George Miller and with no originality because takes too many elements from previous films. Miller is an Australian director usually working for television (Tidal wave, Journey to the center of the earth, and many others) and occasionally for cinema ( The man from Snowy river, Zeus and Roxanne,Robinson Crusoe ). Rating : Below average, bottom of barrel.\n"
     ]
    }
   ],
   "source": [
    "review1 = train['review'][2]\n",
    "print(review1)"
   ]
  },
  {
   "cell_type": "code",
   "execution_count": 26,
   "metadata": {},
   "outputs": [
    {
     "name": "stdout",
     "output_type": "stream",
     "text": [
      "  (0, 562)\t1\n",
      "  (0, 637)\t1\n",
      "  (0, 1018)\t1\n",
      "  (0, 1078)\t1\n",
      "  (0, 1902)\t1\n",
      "  (0, 2279)\t1\n",
      "  (0, 2350)\t1\n",
      "  (0, 2354)\t3\n",
      "  (0, 2795)\t1\n",
      "  (0, 2902)\t1\n",
      "  (0, 3067)\t1\n",
      "  (0, 3663)\t1\n",
      "  (0, 3811)\t1\n",
      "  (0, 3812)\t1\n",
      "  (0, 4000)\t1\n",
      "  (0, 4131)\t1\n",
      "  (0, 4491)\t1\n",
      "  (0, 5007)\t1\n",
      "  (0, 5287)\t1\n",
      "  (0, 5357)\t1\n",
      "  (0, 5442)\t1\n",
      "  (0, 5573)\t1\n",
      "  (0, 5603)\t1\n",
      "  (0, 5700)\t1\n",
      "  (0, 5705)\t1\n",
      "  :\t:\n",
      "  (0, 64510)\t1\n",
      "  (0, 65109)\t1\n",
      "  (0, 65339)\t1\n",
      "  (0, 65748)\t1\n",
      "  (0, 65829)\t2\n",
      "  (0, 66054)\t1\n",
      "  (0, 66084)\t1\n",
      "  (0, 66740)\t1\n",
      "  (0, 66799)\t1\n",
      "  (0, 67858)\t1\n",
      "  (0, 69765)\t1\n",
      "  (0, 69776)\t1\n",
      "  (0, 70035)\t1\n",
      "  (0, 70506)\t1\n",
      "  (0, 70604)\t1\n",
      "  (0, 70716)\t1\n",
      "  (0, 70806)\t1\n",
      "  (0, 70956)\t1\n",
      "  (0, 71270)\t1\n",
      "  (0, 71566)\t1\n",
      "  (0, 71792)\t1\n",
      "  (0, 72394)\t1\n",
      "  (0, 72883)\t1\n",
      "  (0, 73596)\t1\n",
      "  (0, 73862)\t1\n",
      "(1, 74065)\n"
     ]
    }
   ],
   "source": [
    "bow1 = bow_transf.transform([review1])\n",
    "print(bow1)\n",
    "print(bow1.shape)"
   ]
  },
  {
   "cell_type": "code",
   "execution_count": 27,
   "metadata": {},
   "outputs": [],
   "source": [
    "#criando nova base de dados com a coluna revisão ajustado\n",
    "review_bow = bow_transf.transform(train['review'])"
   ]
  },
  {
   "cell_type": "code",
   "execution_count": 28,
   "metadata": {},
   "outputs": [],
   "source": [
    "#Calculo das medidas TF-IDF para preparar os modelos de previsão\n",
    "tfidf_transf = TfidfTransformer().fit(review_bow)\n",
    "tfidf1 = tfidf_transf.transform(bow1)"
   ]
  },
  {
   "cell_type": "code",
   "execution_count": 29,
   "metadata": {},
   "outputs": [
    {
     "name": "stdout",
     "output_type": "stream",
     "text": [
      "  (0, 73862)\t0.08528689788513522\n",
      "  (0, 73596)\t0.0691741583028328\n",
      "  (0, 72883)\t0.041210415418148016\n",
      "  (0, 72394)\t0.09161972406782715\n",
      "  (0, 71792)\t0.05293550045032833\n",
      "  (0, 71566)\t0.057115570752894904\n",
      "  (0, 71270)\t0.05754391499008689\n",
      "  (0, 70956)\t0.08158243204467532\n",
      "  (0, 70806)\t0.0715451400215235\n",
      "  (0, 70716)\t0.04562022505305956\n",
      "  (0, 70604)\t0.08061982287465633\n",
      "  (0, 70506)\t0.04861934709906779\n",
      "  (0, 70035)\t0.0662884193370594\n",
      "  (0, 69776)\t0.03957938379767311\n",
      "  (0, 69765)\t0.04137081437927013\n",
      "  (0, 67858)\t0.03730035820546576\n",
      "  (0, 66799)\t0.0691741583028328\n",
      "  (0, 66740)\t0.03736436082747339\n",
      "  (0, 66084)\t0.06284133212014087\n",
      "  (0, 66054)\t0.08387852533646349\n",
      "  (0, 65829)\t0.053720351280551984\n",
      "  (0, 65748)\t0.0422316478569606\n",
      "  (0, 65339)\t0.07754569915377156\n",
      "  (0, 65109)\t0.04138327019159964\n",
      "  (0, 64510)\t0.032500319603971706\n",
      "  :\t:\n",
      "  (0, 5705)\t0.0715451400215235\n",
      "  (0, 5700)\t0.06005126247803529\n",
      "  (0, 5603)\t0.07691535703419645\n",
      "  (0, 5573)\t0.041661684272670016\n",
      "  (0, 5442)\t0.04845570683925289\n",
      "  (0, 5357)\t0.07524960586198338\n",
      "  (0, 5287)\t0.07475562951166599\n",
      "  (0, 5007)\t0.06297279247348014\n",
      "  (0, 4491)\t0.04331972870724468\n",
      "  (0, 4131)\t0.04243914360932184\n",
      "  (0, 4000)\t0.05593927666733079\n",
      "  (0, 3812)\t0.0560627425587962\n",
      "  (0, 3811)\t0.04780376580434991\n",
      "  (0, 3663)\t0.06440326016454957\n",
      "  (0, 3067)\t0.049886632687277936\n",
      "  (0, 2902)\t0.06185265635061814\n",
      "  (0, 2795)\t0.043538013351252215\n",
      "  (0, 2354)\t0.14854480147100285\n",
      "  (0, 2350)\t0.050340302891978966\n",
      "  (0, 2279)\t0.05446979126920211\n",
      "  (0, 1902)\t0.0635184075228312\n",
      "  (0, 1078)\t0.049545337635181895\n",
      "  (0, 1018)\t0.07754569915377156\n",
      "  (0, 637)\t0.04853716060547277\n",
      "  (0, 562)\t0.026789252790643068\n"
     ]
    }
   ],
   "source": [
    "#Visualizando a base gerada\n",
    "print(tfidf1)"
   ]
  },
  {
   "cell_type": "code",
   "execution_count": 30,
   "metadata": {},
   "outputs": [],
   "source": [
    "review_tfidf = tfidf_transf.transform(review_bow)"
   ]
  },
  {
   "cell_type": "code",
   "execution_count": 31,
   "metadata": {},
   "outputs": [
    {
     "data": {
      "text/plain": [
       "(19500, 5500, 25000)"
      ]
     },
     "execution_count": 31,
     "metadata": {},
     "output_type": "execute_result"
    }
   ],
   "source": [
    "#Após as devidas transformações é hora de separar os dados de treino e teste\n",
    "#Modelando e separando o dataset\n",
    "X_train, X_test, y_train, y_test = train_test_split(train['review'], train['sentiment'], test_size=0.22, random_state=101)\n",
    "\n",
    "len(X_train), len(X_test), len(X_train) + len(X_test)"
   ]
  },
  {
   "cell_type": "code",
   "execution_count": 32,
   "metadata": {},
   "outputs": [],
   "source": [
    "#Importando algumas métricas e criando uma função para as saídas dos modelos\n",
    "from sklearn.metrics import classification_report\n",
    "#Predição e estatísticas\n",
    "def pred(predicted,compare):\n",
    "    cm = pd.crosstab(compare,predicted)\n",
    "    TN = cm.iloc[0,0]\n",
    "    FN = cm.iloc[1,0]\n",
    "    TP = cm.iloc[1,1]\n",
    "    FP = cm.iloc[0,1]\n",
    "    print(\"Matriz de confusão ------->> \")\n",
    "    print(cm)\n",
    "    print()\n",
    "    \n",
    "    ##checando a acurácia do modelo\n",
    "    print('Classificação :------->>')\n",
    "    print('Nível de Acurácia : ', round(((TP+TN)*100)/(TP+TN+FP+FN),2))\n",
    "    print()\n",
    "    print(classification_report(compare,predicted))"
   ]
  },
  {
   "cell_type": "code",
   "execution_count": 33,
   "metadata": {},
   "outputs": [
    {
     "name": "stdout",
     "output_type": "stream",
     "text": [
      "Matriz de confusão ------->> \n",
      "col_0         0     1\n",
      "sentiment            \n",
      "0          9042   682\n",
      "1           499  9277\n",
      "\n",
      "Classificação :------->>\n",
      "Nível de Acurácia :  93.94\n",
      "\n",
      "              precision    recall  f1-score   support\n",
      "\n",
      "           0       0.95      0.93      0.94      9724\n",
      "           1       0.93      0.95      0.94      9776\n",
      "\n",
      "   micro avg       0.94      0.94      0.94     19500\n",
      "   macro avg       0.94      0.94      0.94     19500\n",
      "weighted avg       0.94      0.94      0.94     19500\n",
      "\n"
     ]
    }
   ],
   "source": [
    "#Treinando os modelos\n",
    "#Regressão Logística\n",
    "from sklearn.linear_model import LogisticRegression\n",
    "from sklearn.pipeline import Pipeline\n",
    "\n",
    "pipeline = Pipeline([\n",
    "    ('bow', CountVectorizer(analyzer=clean_text)),  #contagens de números inteiros do token\n",
    "    ('tfidf', TfidfTransformer()),  #pontuações ponderadas em TF-IDF\n",
    "    ('classifier', LogisticRegression(random_state=101)),   #treino em vetores TF-IDF com classificador Regressão Logística\n",
    "])\n",
    "\n",
    "pipeline.fit(X_train,y_train)\n",
    "predictions = pipeline.predict(X_train)\n",
    "pred(predictions,y_train)"
   ]
  },
  {
   "cell_type": "code",
   "execution_count": 34,
   "metadata": {},
   "outputs": [
    {
     "name": "stdout",
     "output_type": "stream",
     "text": [
      "Matriz de confusão ------->> \n",
      "col_0         0     1\n",
      "sentiment            \n",
      "0          2424   352\n",
      "1           267  2457\n",
      "\n",
      "Classificação :------->>\n",
      "Nível de Acurácia :  88.75\n",
      "\n",
      "              precision    recall  f1-score   support\n",
      "\n",
      "           0       0.90      0.87      0.89      2776\n",
      "           1       0.87      0.90      0.89      2724\n",
      "\n",
      "   micro avg       0.89      0.89      0.89      5500\n",
      "   macro avg       0.89      0.89      0.89      5500\n",
      "weighted avg       0.89      0.89      0.89      5500\n",
      "\n"
     ]
    }
   ],
   "source": [
    "#Resultado no caso de teste Regressão Logística\n",
    "predictions = pipeline.predict(X_test)\n",
    "pred(predictions,y_test)"
   ]
  },
  {
   "cell_type": "code",
   "execution_count": 35,
   "metadata": {},
   "outputs": [
    {
     "name": "stdout",
     "output_type": "stream",
     "text": [
      "Matriz de confusão ------->> \n",
      "col_0         0     1\n",
      "sentiment            \n",
      "0          9054   670\n",
      "1           843  8933\n",
      "\n",
      "Classificação :------->>\n",
      "Nível de Acurácia :  92.24\n",
      "\n",
      "              precision    recall  f1-score   support\n",
      "\n",
      "           0       0.91      0.93      0.92      9724\n",
      "           1       0.93      0.91      0.92      9776\n",
      "\n",
      "   micro avg       0.92      0.92      0.92     19500\n",
      "   macro avg       0.92      0.92      0.92     19500\n",
      "weighted avg       0.92      0.92      0.92     19500\n",
      "\n"
     ]
    }
   ],
   "source": [
    "#Modelo Naive Bayes\n",
    "from sklearn.naive_bayes import MultinomialNB\n",
    "\n",
    "pipeline = Pipeline([\n",
    "    ('bow', CountVectorizer(analyzer=clean_text)),  #contagens de números inteiros do token\n",
    "    ('tfidf', TfidfTransformer()),  #pontuações ponderadas em TF-IDF\n",
    "    ('classifier', MultinomialNB()),  # treino em TF-IDF vetores w/ Naive Bayes classificador\n",
    "])\n",
    "\n",
    "pipeline.fit(X_train,y_train)\n",
    "predictions = pipeline.predict(X_train)\n",
    "pred(predictions,y_train)"
   ]
  },
  {
   "cell_type": "code",
   "execution_count": 36,
   "metadata": {},
   "outputs": [
    {
     "name": "stdout",
     "output_type": "stream",
     "text": [
      "Matriz de confusão ------->> \n",
      "col_0         0     1\n",
      "sentiment            \n",
      "0          2423   353\n",
      "1           352  2372\n",
      "\n",
      "Classificação :------->>\n",
      "Nível de Acurácia :  87.18\n",
      "\n",
      "              precision    recall  f1-score   support\n",
      "\n",
      "           0       0.87      0.87      0.87      2776\n",
      "           1       0.87      0.87      0.87      2724\n",
      "\n",
      "   micro avg       0.87      0.87      0.87      5500\n",
      "   macro avg       0.87      0.87      0.87      5500\n",
      "weighted avg       0.87      0.87      0.87      5500\n",
      "\n"
     ]
    }
   ],
   "source": [
    "#Resultado no caso de teste Modelo Naive Baye\n",
    "predictions = pipeline.predict(X_test)\n",
    "pred(predictions,y_test)"
   ]
  },
  {
   "cell_type": "code",
   "execution_count": 37,
   "metadata": {},
   "outputs": [
    {
     "name": "stdout",
     "output_type": "stream",
     "text": [
      "Matriz de confusão ------->> \n",
      "col_0         0     1\n",
      "sentiment            \n",
      "0          9724     0\n",
      "1             0  9776\n",
      "\n",
      "Classificação :------->>\n",
      "Nível de Acurácia :  100.0\n",
      "\n",
      "              precision    recall  f1-score   support\n",
      "\n",
      "           0       1.00      1.00      1.00      9724\n",
      "           1       1.00      1.00      1.00      9776\n",
      "\n",
      "   micro avg       1.00      1.00      1.00     19500\n",
      "   macro avg       1.00      1.00      1.00     19500\n",
      "weighted avg       1.00      1.00      1.00     19500\n",
      "\n"
     ]
    }
   ],
   "source": [
    "#Modelo de Random Forest\n",
    "from sklearn.ensemble import RandomForestClassifier\n",
    "\n",
    "pipeline = Pipeline([\n",
    "    ('bow', CountVectorizer(analyzer=clean_text)),  #contagens de números inteiros do token\n",
    "    ('tfidf', TfidfTransformer()),  #pontuações ponderadas em TF-IDF\n",
    "    ('classifier', RandomForestClassifier(n_estimators = 600)), #treino em TF-IDF vectors w/ RandomForestClassifier\n",
    "])\n",
    "\n",
    "pipeline.fit(X_train,y_train)\n",
    "predictions = pipeline.predict(X_train)\n",
    "pred(predictions,y_train)"
   ]
  },
  {
   "cell_type": "code",
   "execution_count": 38,
   "metadata": {},
   "outputs": [
    {
     "name": "stdout",
     "output_type": "stream",
     "text": [
      "Matriz de confusão ------->> \n",
      "col_0         0     1\n",
      "sentiment            \n",
      "0          2394   382\n",
      "1           371  2353\n",
      "\n",
      "Classificação :------->>\n",
      "Nível de Acurácia :  86.31\n",
      "\n",
      "              precision    recall  f1-score   support\n",
      "\n",
      "           0       0.87      0.86      0.86      2776\n",
      "           1       0.86      0.86      0.86      2724\n",
      "\n",
      "   micro avg       0.86      0.86      0.86      5500\n",
      "   macro avg       0.86      0.86      0.86      5500\n",
      "weighted avg       0.86      0.86      0.86      5500\n",
      "\n"
     ]
    }
   ],
   "source": [
    "#Resultado no caso de teste Modelo Random Forest\n",
    "predictions = pipeline.predict(X_test)\n",
    "pred(predictions,y_test)"
   ]
  },
  {
   "cell_type": "code",
   "execution_count": 39,
   "metadata": {},
   "outputs": [
    {
     "name": "stdout",
     "output_type": "stream",
     "text": [
      "Matriz de confusão ------->> \n",
      "col_0         0     1\n",
      "sentiment            \n",
      "0          8747   977\n",
      "1           825  8951\n",
      "\n",
      "Classificação :------->>\n",
      "Nível de Acurácia :  90.76\n",
      "\n",
      "              precision    recall  f1-score   support\n",
      "\n",
      "           0       0.91      0.90      0.91      9724\n",
      "           1       0.90      0.92      0.91      9776\n",
      "\n",
      "   micro avg       0.91      0.91      0.91     19500\n",
      "   macro avg       0.91      0.91      0.91     19500\n",
      "weighted avg       0.91      0.91      0.91     19500\n",
      "\n"
     ]
    }
   ],
   "source": [
    "#Modelo AdaBoost Classifier\n",
    "from sklearn.ensemble import AdaBoostClassifier\n",
    "from sklearn.pipeline import Pipeline\n",
    "\n",
    "pipeline = Pipeline([\n",
    "    ('bow', CountVectorizer(analyzer=clean_text)),  #contagens de números inteiros do token\n",
    "    ('tfidf', TfidfTransformer()),  #pontuações ponderadas em TF-IDF\n",
    "    ('classifier', AdaBoostClassifier(n_estimators=500)),  # treino em TF-IDF vectors w/ SVC\n",
    "])\n",
    "\n",
    "pipeline.fit(X_train,y_train)\n",
    "predictions = pipeline.predict(X_train)\n",
    "pred(predictions,y_train)"
   ]
  },
  {
   "cell_type": "code",
   "execution_count": 40,
   "metadata": {},
   "outputs": [
    {
     "name": "stdout",
     "output_type": "stream",
     "text": [
      "Matriz de confusão ------->> \n",
      "col_0         0     1\n",
      "sentiment            \n",
      "0          2369   407\n",
      "1           397  2327\n",
      "\n",
      "Classificação :------->>\n",
      "Nível de Acurácia :  85.38\n",
      "\n",
      "              precision    recall  f1-score   support\n",
      "\n",
      "           0       0.86      0.85      0.85      2776\n",
      "           1       0.85      0.85      0.85      2724\n",
      "\n",
      "   micro avg       0.85      0.85      0.85      5500\n",
      "   macro avg       0.85      0.85      0.85      5500\n",
      "weighted avg       0.85      0.85      0.85      5500\n",
      "\n"
     ]
    }
   ],
   "source": [
    "#Resultado no caso de teste Modelo AdaBoost Classifier\n",
    "predictions = pipeline.predict(X_test)\n",
    "pred(predictions,y_test)"
   ]
  },
  {
   "cell_type": "code",
   "execution_count": 41,
   "metadata": {},
   "outputs": [
    {
     "name": "stdout",
     "output_type": "stream",
     "text": [
      "Matriz de confusão ------->> \n",
      "col_0         0     1\n",
      "sentiment            \n",
      "0          9249   475\n",
      "1           488  9288\n",
      "\n",
      "Classificação :------->>\n",
      "Nível de Acurácia :  95.06\n",
      "\n",
      "              precision    recall  f1-score   support\n",
      "\n",
      "           0       0.95      0.95      0.95      9724\n",
      "           1       0.95      0.95      0.95      9776\n",
      "\n",
      "   micro avg       0.95      0.95      0.95     19500\n",
      "   macro avg       0.95      0.95      0.95     19500\n",
      "weighted avg       0.95      0.95      0.95     19500\n",
      "\n"
     ]
    }
   ],
   "source": [
    "#Modelo Stochastic Gradient Descent - SGD\n",
    "from sklearn.linear_model import SGDClassifier\n",
    "from sklearn.pipeline import Pipeline\n",
    "\n",
    "pipeline = Pipeline([\n",
    "    ('bow', CountVectorizer(analyzer=clean_text)),  #contagens de números inteiros do token\n",
    "    ('tfidf', TfidfTransformer()),  #pontuações ponderadas em TF-IDF\n",
    "    ('classifier', SGDClassifier()),  # treino em TF-IDF vetores w/ SGD classifier\n",
    "])\n",
    "\n",
    "pipeline.fit(X_train,y_train)\n",
    "predictions = pipeline.predict(X_train)\n",
    "pred(predictions,y_train)"
   ]
  },
  {
   "cell_type": "code",
   "execution_count": 42,
   "metadata": {},
   "outputs": [
    {
     "name": "stdout",
     "output_type": "stream",
     "text": [
      "Matriz de confusão ------->> \n",
      "col_0         0     1\n",
      "sentiment            \n",
      "0          2485   291\n",
      "1           274  2450\n",
      "\n",
      "Classificação :------->>\n",
      "Nível de Acurácia :  89.73\n",
      "\n",
      "              precision    recall  f1-score   support\n",
      "\n",
      "           0       0.90      0.90      0.90      2776\n",
      "           1       0.89      0.90      0.90      2724\n",
      "\n",
      "   micro avg       0.90      0.90      0.90      5500\n",
      "   macro avg       0.90      0.90      0.90      5500\n",
      "weighted avg       0.90      0.90      0.90      5500\n",
      "\n"
     ]
    }
   ],
   "source": [
    "#Resultado no caso de teste Modelo Stochastic Gradient Descent - SGD\n",
    "predictions = pipeline.predict(X_test)\n",
    "pred(predictions,y_test)"
   ]
  },
  {
   "cell_type": "code",
   "execution_count": 43,
   "metadata": {},
   "outputs": [],
   "source": [
    "#O modelo que teve melhor desempenho foi Stochastic Gradient Descent e é este que iremos usar para realizar a previsão\n",
    "from sklearn.linear_model import SGDClassifier\n",
    "from sklearn.pipeline import Pipeline\n",
    "\n",
    "pipeline_logit = Pipeline([\n",
    "    ('bow', CountVectorizer(analyzer=clean_text)),  #contagens de números inteiros do token\n",
    "    ('tfidf', TfidfTransformer()),  #pontuações ponderadas em TF-IDF\n",
    "    ('classifier', SGDClassifier()),  # treino em TF-IDF vetores w/ SGD classifier\n",
    "])\n",
    "\n",
    "\n",
    "pipeline_logit.fit(train['review'],train['sentiment'])\n",
    "test['sentiment'] = pipeline_logit.predict(test['review'])\n",
    "\n",
    "'''o modelo SGDC foi escolhido por ser um pouco mais eficiente do que os outros modelos para a classificação de textos,\n",
    "bastante aplicado para o processamento de linguagem natural. As vantagens são sua eficiência na predição, principalmente facilidade \n",
    "na implementação, o código pode ser ajustado facilmente. As desvantagens é que o modelo SGD requer vários hiperparâmetros e\n",
    "número de iterações\n",
    "   A matriz de confusão para o modelo SGD\n",
    "\n",
    "'''\n"
   ]
  },
  {
   "cell_type": "code",
   "execution_count": 44,
   "metadata": {},
   "outputs": [
    {
     "data": {
      "text/html": [
       "<div>\n",
       "<style scoped>\n",
       "    .dataframe tbody tr th:only-of-type {\n",
       "        vertical-align: middle;\n",
       "    }\n",
       "\n",
       "    .dataframe tbody tr th {\n",
       "        vertical-align: top;\n",
       "    }\n",
       "\n",
       "    .dataframe thead th {\n",
       "        text-align: right;\n",
       "    }\n",
       "</style>\n",
       "<table border=\"1\" class=\"dataframe\">\n",
       "  <thead>\n",
       "    <tr style=\"text-align: right;\">\n",
       "      <th></th>\n",
       "      <th>Id</th>\n",
       "      <th>review</th>\n",
       "      <th>sentiment</th>\n",
       "    </tr>\n",
       "  </thead>\n",
       "  <tbody>\n",
       "    <tr>\n",
       "      <th>0</th>\n",
       "      <td>319_1</td>\n",
       "      <td>If you are in search of a masochistic thrill, ...</td>\n",
       "      <td>0</td>\n",
       "    </tr>\n",
       "    <tr>\n",
       "      <th>1</th>\n",
       "      <td>2486_3</td>\n",
       "      <td>* Some spoilers *&lt;br /&gt;&lt;br /&gt;This movie is som...</td>\n",
       "      <td>1</td>\n",
       "    </tr>\n",
       "    <tr>\n",
       "      <th>2</th>\n",
       "      <td>3561_4</td>\n",
       "      <td>This film is about a grieving wife who lost he...</td>\n",
       "      <td>0</td>\n",
       "    </tr>\n",
       "    <tr>\n",
       "      <th>3</th>\n",
       "      <td>9352_10</td>\n",
       "      <td>What a fine film! Unfortunately, being 1947, t...</td>\n",
       "      <td>1</td>\n",
       "    </tr>\n",
       "    <tr>\n",
       "      <th>4</th>\n",
       "      <td>10492_1</td>\n",
       "      <td>Imagine what it must have been like for John A...</td>\n",
       "      <td>0</td>\n",
       "    </tr>\n",
       "  </tbody>\n",
       "</table>\n",
       "</div>"
      ],
      "text/plain": [
       "        Id                                             review  sentiment\n",
       "0    319_1  If you are in search of a masochistic thrill, ...          0\n",
       "1   2486_3  * Some spoilers *<br /><br />This movie is som...          1\n",
       "2   3561_4  This film is about a grieving wife who lost he...          0\n",
       "3  9352_10  What a fine film! Unfortunately, being 1947, t...          1\n",
       "4  10492_1  Imagine what it must have been like for John A...          0"
      ]
     },
     "execution_count": 44,
     "metadata": {},
     "output_type": "execute_result"
    }
   ],
   "source": [
    "test.head(5)"
   ]
  },
  {
   "cell_type": "code",
   "execution_count": 46,
   "metadata": {},
   "outputs": [
    {
     "name": "stdout",
     "output_type": "stream",
     "text": [
      "            Id  sentiment\n",
      "0        319_1          0\n",
      "1       2486_3          1\n",
      "2       3561_4          0\n",
      "3      9352_10          1\n",
      "4      10492_1          0\n",
      "5       4656_4          1\n",
      "6       9727_7          1\n",
      "7      11241_1          0\n",
      "8      4005_10          1\n",
      "9      11885_1          0\n",
      "10    12106_10          1\n",
      "11     11427_1          0\n",
      "12      4221_8          1\n",
      "13      9983_3          0\n",
      "14     11289_4          0\n",
      "15      301_10          1\n",
      "16      8880_3          0\n",
      "17      1510_8          0\n",
      "18    10064_10          1\n",
      "19     11471_7          1\n",
      "20      6403_3          0\n",
      "21      8459_3          0\n",
      "22    10531_10          1\n",
      "23     11736_9          1\n",
      "24     7168_10          1\n",
      "25     1777_10          1\n",
      "26    10533_10          0\n",
      "27      292_10          1\n",
      "28      5240_1          0\n",
      "29      3088_8          1\n",
      "...        ...        ...\n",
      "7043  11390_10          1\n",
      "7044    4653_2          0\n",
      "7045    3238_1          0\n",
      "7046    3692_1          0\n",
      "7047    4308_1          0\n",
      "7048    5937_4          0\n",
      "7049    2903_1          0\n",
      "7050    5813_4          0\n",
      "7051    7201_1          0\n",
      "7052   5669_10          1\n",
      "7053   4332_10          1\n",
      "7054   3481_10          1\n",
      "7055    1375_1          0\n",
      "7056    7243_2          0\n",
      "7057   7860_10          1\n",
      "7058     730_1          0\n",
      "7059   9118_10          1\n",
      "7060    9933_1          0\n",
      "7061   4640_10          1\n",
      "7062    3067_1          0\n",
      "7063    9915_2          0\n",
      "7064  12215_10          1\n",
      "7065   7668_10          1\n",
      "7066   3161_10          1\n",
      "7067    1184_3          0\n",
      "7068   1422_10          1\n",
      "7069    7492_7          1\n",
      "7070    3471_3          1\n",
      "7071   6034_10          1\n",
      "7072    9416_3          0\n",
      "\n",
      "[7073 rows x 2 columns]\n"
     ]
    }
   ],
   "source": [
    "output = test[['Id','sentiment']]\n",
    "print(output)"
   ]
  },
  {
   "cell_type": "code",
   "execution_count": 47,
   "metadata": {},
   "outputs": [],
   "source": [
    "#Exportando os arquivos\n",
    "output_csv = output.to_csv ('C:/Users/Eden/Documents/PUC-MG - Inteligência Artifical e Aprendizado de Máquina/AS/output.csv', index = None, header=True)"
   ]
  },
  {
   "cell_type": "code",
   "execution_count": null,
   "metadata": {},
   "outputs": [],
   "source": []
  }
 ],
 "metadata": {
  "kernelspec": {
   "display_name": "Python 3",
   "language": "python",
   "name": "python3"
  },
  "language_info": {
   "codemirror_mode": {
    "name": "ipython",
    "version": 3
   },
   "file_extension": ".py",
   "mimetype": "text/x-python",
   "name": "python",
   "nbconvert_exporter": "python",
   "pygments_lexer": "ipython3",
   "version": "3.7.3"
  }
 },
 "nbformat": 4,
 "nbformat_minor": 2
}
