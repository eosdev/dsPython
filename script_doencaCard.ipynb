{
 "cells": [
  {
   "cell_type": "code",
   "execution_count": 1,
   "metadata": {},
   "outputs": [],
   "source": [
    "#Importando algumas bibliotecas básicas para manipular alguns dados\n",
    "import os\n",
    "import pandas as pd\n",
    "import numpy as np\n",
    "import pandas as pd\n",
    "import numpy as np\n",
    "from pandas import read_excel\n",
    "import matplotlib.mlab as mlab\n",
    "import matplotlib.pyplot as plt\n",
    "import seaborn as sns\n",
    "import statistics as st\n",
    "import scipy.stats as stats\n",
    "import statsmodels.api as sm\n",
    "import random\n",
    "import math\n",
    "import sklearn"
   ]
  },
  {
   "cell_type": "code",
   "execution_count": 2,
   "metadata": {},
   "outputs": [],
   "source": [
    "cardio= pd.read_csv('C:/Users/Eden/Documents/PUC-MG - Inteligência Artifical e Aprendizado de Máquina/EG/Cardio/cardio_IA.csv', \n",
    "                         sep=';', encoding='latin-1', low_memory = False) "
   ]
  },
  {
   "cell_type": "code",
   "execution_count": 3,
   "metadata": {},
   "outputs": [
    {
     "data": {
      "text/html": [
       "<div>\n",
       "<style scoped>\n",
       "    .dataframe tbody tr th:only-of-type {\n",
       "        vertical-align: middle;\n",
       "    }\n",
       "\n",
       "    .dataframe tbody tr th {\n",
       "        vertical-align: top;\n",
       "    }\n",
       "\n",
       "    .dataframe thead th {\n",
       "        text-align: right;\n",
       "    }\n",
       "</style>\n",
       "<table border=\"1\" class=\"dataframe\">\n",
       "  <thead>\n",
       "    <tr style=\"text-align: right;\">\n",
       "      <th></th>\n",
       "      <th>ID</th>\n",
       "      <th>Idade</th>\n",
       "      <th>Sexo</th>\n",
       "      <th>IMC</th>\n",
       "      <th>ccintura</th>\n",
       "      <th>cquadril</th>\n",
       "      <th>frqCardiaca</th>\n",
       "      <th>fumo</th>\n",
       "      <th>atvFisica</th>\n",
       "      <th>stress</th>\n",
       "      <th>pdiasto</th>\n",
       "      <th>DoencaCard</th>\n",
       "    </tr>\n",
       "  </thead>\n",
       "  <tbody>\n",
       "    <tr>\n",
       "      <th>0</th>\n",
       "      <td>1</td>\n",
       "      <td>20</td>\n",
       "      <td>Masculino</td>\n",
       "      <td>27.94</td>\n",
       "      <td>95</td>\n",
       "      <td>112</td>\n",
       "      <td>75</td>\n",
       "      <td>0</td>\n",
       "      <td>2</td>\n",
       "      <td>3</td>\n",
       "      <td>80.00</td>\n",
       "      <td>0</td>\n",
       "    </tr>\n",
       "    <tr>\n",
       "      <th>1</th>\n",
       "      <td>2</td>\n",
       "      <td>31</td>\n",
       "      <td>Feminino</td>\n",
       "      <td>28.76</td>\n",
       "      <td>88</td>\n",
       "      <td>101</td>\n",
       "      <td>66</td>\n",
       "      <td>0</td>\n",
       "      <td>2</td>\n",
       "      <td>0</td>\n",
       "      <td>74.33</td>\n",
       "      <td>1</td>\n",
       "    </tr>\n",
       "    <tr>\n",
       "      <th>2</th>\n",
       "      <td>3</td>\n",
       "      <td>19</td>\n",
       "      <td>Masculino</td>\n",
       "      <td>25.35</td>\n",
       "      <td>79</td>\n",
       "      <td>102</td>\n",
       "      <td>69</td>\n",
       "      <td>0</td>\n",
       "      <td>2</td>\n",
       "      <td>0</td>\n",
       "      <td>70.00</td>\n",
       "      <td>0</td>\n",
       "    </tr>\n",
       "    <tr>\n",
       "      <th>3</th>\n",
       "      <td>4</td>\n",
       "      <td>20</td>\n",
       "      <td>Masculino</td>\n",
       "      <td>20.73</td>\n",
       "      <td>91</td>\n",
       "      <td>80</td>\n",
       "      <td>85</td>\n",
       "      <td>0</td>\n",
       "      <td>0</td>\n",
       "      <td>0</td>\n",
       "      <td>76.67</td>\n",
       "      <td>1</td>\n",
       "    </tr>\n",
       "    <tr>\n",
       "      <th>4</th>\n",
       "      <td>5</td>\n",
       "      <td>19</td>\n",
       "      <td>Masculino</td>\n",
       "      <td>24.54</td>\n",
       "      <td>83</td>\n",
       "      <td>98</td>\n",
       "      <td>72</td>\n",
       "      <td>0</td>\n",
       "      <td>2</td>\n",
       "      <td>0</td>\n",
       "      <td>80.00</td>\n",
       "      <td>1</td>\n",
       "    </tr>\n",
       "  </tbody>\n",
       "</table>\n",
       "</div>"
      ],
      "text/plain": [
       "   ID  Idade       Sexo    IMC  ccintura  cquadril  frqCardiaca  fumo  \\\n",
       "0   1     20  Masculino  27.94        95       112           75     0   \n",
       "1   2     31   Feminino  28.76        88       101           66     0   \n",
       "2   3     19  Masculino  25.35        79       102           69     0   \n",
       "3   4     20  Masculino  20.73        91        80           85     0   \n",
       "4   5     19  Masculino  24.54        83        98           72     0   \n",
       "\n",
       "   atvFisica  stress  pdiasto  DoencaCard  \n",
       "0          2       3    80.00           0  \n",
       "1          2       0    74.33           1  \n",
       "2          2       0    70.00           0  \n",
       "3          0       0    76.67           1  \n",
       "4          2       0    80.00           1  "
      ]
     },
     "execution_count": 3,
     "metadata": {},
     "output_type": "execute_result"
    }
   ],
   "source": [
    "#lendo as cinco primeiras linhas\n",
    "cardio.head()"
   ]
  },
  {
   "cell_type": "code",
   "execution_count": 4,
   "metadata": {},
   "outputs": [
    {
     "data": {
      "text/html": [
       "<div>\n",
       "<style scoped>\n",
       "    .dataframe tbody tr th:only-of-type {\n",
       "        vertical-align: middle;\n",
       "    }\n",
       "\n",
       "    .dataframe tbody tr th {\n",
       "        vertical-align: top;\n",
       "    }\n",
       "\n",
       "    .dataframe thead th {\n",
       "        text-align: right;\n",
       "    }\n",
       "</style>\n",
       "<table border=\"1\" class=\"dataframe\">\n",
       "  <thead>\n",
       "    <tr style=\"text-align: right;\">\n",
       "      <th></th>\n",
       "      <th>ID</th>\n",
       "      <th>Idade</th>\n",
       "      <th>Sexo</th>\n",
       "      <th>IMC</th>\n",
       "      <th>ccintura</th>\n",
       "      <th>cquadril</th>\n",
       "      <th>frqCardiaca</th>\n",
       "      <th>fumo</th>\n",
       "      <th>atvFisica</th>\n",
       "      <th>stress</th>\n",
       "      <th>pdiasto</th>\n",
       "      <th>DoencaCard</th>\n",
       "    </tr>\n",
       "  </thead>\n",
       "  <tbody>\n",
       "    <tr>\n",
       "      <th>395</th>\n",
       "      <td>396</td>\n",
       "      <td>21</td>\n",
       "      <td>Masculino</td>\n",
       "      <td>17.67</td>\n",
       "      <td>65</td>\n",
       "      <td>88</td>\n",
       "      <td>59</td>\n",
       "      <td>0</td>\n",
       "      <td>0</td>\n",
       "      <td>0</td>\n",
       "      <td>82.67</td>\n",
       "      <td>1</td>\n",
       "    </tr>\n",
       "    <tr>\n",
       "      <th>396</th>\n",
       "      <td>397</td>\n",
       "      <td>21</td>\n",
       "      <td>Masculino</td>\n",
       "      <td>22.35</td>\n",
       "      <td>80</td>\n",
       "      <td>103</td>\n",
       "      <td>80</td>\n",
       "      <td>0</td>\n",
       "      <td>2</td>\n",
       "      <td>2</td>\n",
       "      <td>70.00</td>\n",
       "      <td>0</td>\n",
       "    </tr>\n",
       "    <tr>\n",
       "      <th>397</th>\n",
       "      <td>398</td>\n",
       "      <td>21</td>\n",
       "      <td>Masculino</td>\n",
       "      <td>32.11</td>\n",
       "      <td>97</td>\n",
       "      <td>112</td>\n",
       "      <td>65</td>\n",
       "      <td>0</td>\n",
       "      <td>2</td>\n",
       "      <td>0</td>\n",
       "      <td>101.00</td>\n",
       "      <td>1</td>\n",
       "    </tr>\n",
       "    <tr>\n",
       "      <th>398</th>\n",
       "      <td>399</td>\n",
       "      <td>19</td>\n",
       "      <td>Masculino</td>\n",
       "      <td>23.16</td>\n",
       "      <td>82</td>\n",
       "      <td>101</td>\n",
       "      <td>81</td>\n",
       "      <td>0</td>\n",
       "      <td>0</td>\n",
       "      <td>1</td>\n",
       "      <td>96.67</td>\n",
       "      <td>1</td>\n",
       "    </tr>\n",
       "    <tr>\n",
       "      <th>399</th>\n",
       "      <td>400</td>\n",
       "      <td>18</td>\n",
       "      <td>Feminino</td>\n",
       "      <td>25.93</td>\n",
       "      <td>72</td>\n",
       "      <td>104</td>\n",
       "      <td>98</td>\n",
       "      <td>0</td>\n",
       "      <td>0</td>\n",
       "      <td>1</td>\n",
       "      <td>76.67</td>\n",
       "      <td>0</td>\n",
       "    </tr>\n",
       "  </tbody>\n",
       "</table>\n",
       "</div>"
      ],
      "text/plain": [
       "      ID  Idade       Sexo    IMC  ccintura  cquadril  frqCardiaca  fumo  \\\n",
       "395  396     21  Masculino  17.67        65        88           59     0   \n",
       "396  397     21  Masculino  22.35        80       103           80     0   \n",
       "397  398     21  Masculino  32.11        97       112           65     0   \n",
       "398  399     19  Masculino  23.16        82       101           81     0   \n",
       "399  400     18   Feminino  25.93        72       104           98     0   \n",
       "\n",
       "     atvFisica  stress  pdiasto  DoencaCard  \n",
       "395          0       0    82.67           1  \n",
       "396          2       2    70.00           0  \n",
       "397          2       0   101.00           1  \n",
       "398          0       1    96.67           1  \n",
       "399          0       1    76.67           0  "
      ]
     },
     "execution_count": 4,
     "metadata": {},
     "output_type": "execute_result"
    }
   ],
   "source": [
    "#lendo as últimas cinco linhas\n",
    "cardio.tail()"
   ]
  },
  {
   "cell_type": "code",
   "execution_count": 5,
   "metadata": {},
   "outputs": [],
   "source": [
    "#função que verifica se existem colunas com valores vazios\n",
    "for col in (cardio):\n",
    "    if(cardio[col].isnull().any()):\n",
    "        print(col)"
   ]
  },
  {
   "cell_type": "code",
   "execution_count": 6,
   "metadata": {},
   "outputs": [],
   "source": [
    "#Nova classificação binária para classificação de sexo\n",
    "def mapeamento(Sexo):\n",
    "    if Sexo == 'Masculino':\n",
    "        return 1\n",
    "    else:\n",
    "        return 0"
   ]
  },
  {
   "cell_type": "code",
   "execution_count": 7,
   "metadata": {},
   "outputs": [],
   "source": [
    "#Aplicando a nova coluna\n",
    "cardio['Sexo_n'] = cardio['Sexo'].apply(mapeamento)"
   ]
  },
  {
   "cell_type": "code",
   "execution_count": 8,
   "metadata": {},
   "outputs": [
    {
     "data": {
      "text/html": [
       "<div>\n",
       "<style scoped>\n",
       "    .dataframe tbody tr th:only-of-type {\n",
       "        vertical-align: middle;\n",
       "    }\n",
       "\n",
       "    .dataframe tbody tr th {\n",
       "        vertical-align: top;\n",
       "    }\n",
       "\n",
       "    .dataframe thead th {\n",
       "        text-align: right;\n",
       "    }\n",
       "</style>\n",
       "<table border=\"1\" class=\"dataframe\">\n",
       "  <thead>\n",
       "    <tr style=\"text-align: right;\">\n",
       "      <th></th>\n",
       "      <th>Idade</th>\n",
       "      <th>Sexo</th>\n",
       "      <th>IMC</th>\n",
       "      <th>ccintura</th>\n",
       "      <th>cquadril</th>\n",
       "      <th>frqCardiaca</th>\n",
       "      <th>fumo</th>\n",
       "      <th>atvFisica</th>\n",
       "      <th>stress</th>\n",
       "      <th>pdiasto</th>\n",
       "      <th>DoencaCard</th>\n",
       "      <th>Sexo_n</th>\n",
       "    </tr>\n",
       "  </thead>\n",
       "  <tbody>\n",
       "    <tr>\n",
       "      <th>0</th>\n",
       "      <td>20</td>\n",
       "      <td>Masculino</td>\n",
       "      <td>27.94</td>\n",
       "      <td>95</td>\n",
       "      <td>112</td>\n",
       "      <td>75</td>\n",
       "      <td>0</td>\n",
       "      <td>2</td>\n",
       "      <td>3</td>\n",
       "      <td>80.00</td>\n",
       "      <td>0</td>\n",
       "      <td>1</td>\n",
       "    </tr>\n",
       "    <tr>\n",
       "      <th>1</th>\n",
       "      <td>31</td>\n",
       "      <td>Feminino</td>\n",
       "      <td>28.76</td>\n",
       "      <td>88</td>\n",
       "      <td>101</td>\n",
       "      <td>66</td>\n",
       "      <td>0</td>\n",
       "      <td>2</td>\n",
       "      <td>0</td>\n",
       "      <td>74.33</td>\n",
       "      <td>1</td>\n",
       "      <td>0</td>\n",
       "    </tr>\n",
       "    <tr>\n",
       "      <th>2</th>\n",
       "      <td>19</td>\n",
       "      <td>Masculino</td>\n",
       "      <td>25.35</td>\n",
       "      <td>79</td>\n",
       "      <td>102</td>\n",
       "      <td>69</td>\n",
       "      <td>0</td>\n",
       "      <td>2</td>\n",
       "      <td>0</td>\n",
       "      <td>70.00</td>\n",
       "      <td>0</td>\n",
       "      <td>1</td>\n",
       "    </tr>\n",
       "    <tr>\n",
       "      <th>3</th>\n",
       "      <td>20</td>\n",
       "      <td>Masculino</td>\n",
       "      <td>20.73</td>\n",
       "      <td>91</td>\n",
       "      <td>80</td>\n",
       "      <td>85</td>\n",
       "      <td>0</td>\n",
       "      <td>0</td>\n",
       "      <td>0</td>\n",
       "      <td>76.67</td>\n",
       "      <td>1</td>\n",
       "      <td>1</td>\n",
       "    </tr>\n",
       "    <tr>\n",
       "      <th>4</th>\n",
       "      <td>19</td>\n",
       "      <td>Masculino</td>\n",
       "      <td>24.54</td>\n",
       "      <td>83</td>\n",
       "      <td>98</td>\n",
       "      <td>72</td>\n",
       "      <td>0</td>\n",
       "      <td>2</td>\n",
       "      <td>0</td>\n",
       "      <td>80.00</td>\n",
       "      <td>1</td>\n",
       "      <td>1</td>\n",
       "    </tr>\n",
       "  </tbody>\n",
       "</table>\n",
       "</div>"
      ],
      "text/plain": [
       "   Idade       Sexo    IMC  ccintura  cquadril  frqCardiaca  fumo  atvFisica  \\\n",
       "0     20  Masculino  27.94        95       112           75     0          2   \n",
       "1     31   Feminino  28.76        88       101           66     0          2   \n",
       "2     19  Masculino  25.35        79       102           69     0          2   \n",
       "3     20  Masculino  20.73        91        80           85     0          0   \n",
       "4     19  Masculino  24.54        83        98           72     0          2   \n",
       "\n",
       "   stress  pdiasto  DoencaCard  Sexo_n  \n",
       "0       3    80.00           0       1  \n",
       "1       0    74.33           1       0  \n",
       "2       0    70.00           0       1  \n",
       "3       0    76.67           1       1  \n",
       "4       0    80.00           1       1  "
      ]
     },
     "execution_count": 8,
     "metadata": {},
     "output_type": "execute_result"
    }
   ],
   "source": [
    "#Deletando coluna ID e lendo os novos dados\n",
    "cardio.drop(\"ID\",axis=1,inplace=True)\n",
    "cardio.head()"
   ]
  },
  {
   "cell_type": "code",
   "execution_count": 9,
   "metadata": {},
   "outputs": [
    {
     "data": {
      "text/html": [
       "<div>\n",
       "<style scoped>\n",
       "    .dataframe tbody tr th:only-of-type {\n",
       "        vertical-align: middle;\n",
       "    }\n",
       "\n",
       "    .dataframe tbody tr th {\n",
       "        vertical-align: top;\n",
       "    }\n",
       "\n",
       "    .dataframe thead th {\n",
       "        text-align: right;\n",
       "    }\n",
       "</style>\n",
       "<table border=\"1\" class=\"dataframe\">\n",
       "  <thead>\n",
       "    <tr style=\"text-align: right;\">\n",
       "      <th></th>\n",
       "      <th>Idade</th>\n",
       "      <th>Sexo</th>\n",
       "      <th>IMC</th>\n",
       "      <th>ccintura</th>\n",
       "      <th>cquadril</th>\n",
       "      <th>frqCardiaca</th>\n",
       "      <th>fumo</th>\n",
       "      <th>atvFisica</th>\n",
       "      <th>stress</th>\n",
       "      <th>pdiasto</th>\n",
       "      <th>DoencaCard</th>\n",
       "      <th>Sexo_n</th>\n",
       "    </tr>\n",
       "  </thead>\n",
       "  <tbody>\n",
       "  </tbody>\n",
       "</table>\n",
       "</div>"
      ],
      "text/plain": [
       "Empty DataFrame\n",
       "Columns: [Idade, Sexo, IMC, ccintura, cquadril, frqCardiaca, fumo, atvFisica, stress, pdiasto, DoencaCard, Sexo_n]\n",
       "Index: []"
      ]
     },
     "execution_count": 9,
     "metadata": {},
     "output_type": "execute_result"
    }
   ],
   "source": [
    "#Verificando se existem dados duplicados\n",
    "cardio[cardio.duplicated(keep=False)]"
   ]
  },
  {
   "cell_type": "code",
   "execution_count": 10,
   "metadata": {},
   "outputs": [
    {
     "name": "stdout",
     "output_type": "stream",
     "text": [
      "Média: 23.14\n",
      "Moda: 19\n",
      "Mediana: 21.0\n",
      "Variância: 36.37\n",
      "Desvio Padrão: 6.03\n"
     ]
    }
   ],
   "source": [
    "#Estatísticas descritivas Idade\n",
    "print('Média: {}'.format(round(st.mean(cardio['Idade']),2)))\n",
    "print('Moda: {}'.format(round(st.mode(cardio['Idade']),2)))\n",
    "print('Mediana: {}'.format(round(st.median(cardio['Idade']),2)))\n",
    "print('Variância: {}'.format(round(st.variance(cardio['Idade']),2)))\n",
    "print('Desvio Padrão: {}'.format(round(st.stdev(cardio['Idade']),2)))"
   ]
  },
  {
   "cell_type": "code",
   "execution_count": 11,
   "metadata": {},
   "outputs": [
    {
     "name": "stdout",
     "output_type": "stream",
     "text": [
      "Média: 24.0\n",
      "Mediana: 23.32\n",
      "Variância: 18.25\n",
      "Desvio Padrão: 4.27\n"
     ]
    }
   ],
   "source": [
    "#Estatísticas descritivas IMC\n",
    "print('Média: {}'.format(round(st.mean(cardio['IMC']),2)))\n",
    "#print('Moda: {}'.format(round(st.mode(cardio['IMC']),2)))\n",
    "print('Mediana: {}'.format(round(st.median(cardio['IMC']),2)))\n",
    "print('Variância: {}'.format(round(st.variance(cardio['IMC']),2)))\n",
    "print('Desvio Padrão: {}'.format(round(st.stdev(cardio['IMC']),2)))"
   ]
  },
  {
   "cell_type": "code",
   "execution_count": 12,
   "metadata": {},
   "outputs": [
    {
     "name": "stdout",
     "output_type": "stream",
     "text": [
      "Média: 80.94\n",
      "Mediana: 79.0\n",
      "Variância: 128.24\n",
      "Desvio Padrão: 11.32\n"
     ]
    }
   ],
   "source": [
    "#Estatísticas descritivas ccintura\n",
    "print('Média: {}'.format(round(st.mean(cardio['ccintura']),2)))\n",
    "#print('Moda: {}'.format(round(st.mode(cardio['IMC']),2)))\n",
    "print('Mediana: {}'.format(round(st.median(cardio['ccintura']),2)))\n",
    "print('Variância: {}'.format(round(st.variance(cardio['ccintura']),2)))\n",
    "print('Desvio Padrão: {}'.format(round(st.stdev(cardio['ccintura']),2)))"
   ]
  },
  {
   "cell_type": "code",
   "execution_count": 13,
   "metadata": {},
   "outputs": [
    {
     "name": "stdout",
     "output_type": "stream",
     "text": [
      "Média: 101.68\n",
      "Mediana: 101.0\n",
      "Variância: 79.33\n",
      "Desvio Padrão: 8.91\n"
     ]
    }
   ],
   "source": [
    "#Estatísticas descritivas cquadril\n",
    "print('Média: {}'.format(round(st.mean(cardio['cquadril']),2)))\n",
    "#print('Moda: {}'.format(round(st.mode(cardio['IMC']),2)))\n",
    "print('Mediana: {}'.format(round(st.median(cardio['cquadril']),2)))\n",
    "print('Variância: {}'.format(round(st.variance(cardio['cquadril']),2)))\n",
    "print('Desvio Padrão: {}'.format(round(st.stdev(cardio['cquadril']),2)))"
   ]
  },
  {
   "cell_type": "code",
   "execution_count": 14,
   "metadata": {},
   "outputs": [
    {
     "name": "stdout",
     "output_type": "stream",
     "text": [
      "Média: 79.82\n",
      "Moda: 80\n",
      "Mediana: 80.0\n",
      "Variância: 138.94\n",
      "Desvio Padrão: 11.79\n"
     ]
    }
   ],
   "source": [
    "#Estatísticas descritivas frqCardiaca\n",
    "print('Média: {}'.format(round(st.mean(cardio['frqCardiaca']),2)))\n",
    "print('Moda: {}'.format(round(st.mode(cardio['frqCardiaca']),2)))\n",
    "print('Mediana: {}'.format(round(st.median(cardio['frqCardiaca']),2)))\n",
    "print('Variância: {}'.format(round(st.variance(cardio['frqCardiaca']),2)))\n",
    "print('Desvio Padrão: {}'.format(round(st.stdev(cardio['frqCardiaca']),2)))"
   ]
  },
  {
   "cell_type": "code",
   "execution_count": 15,
   "metadata": {},
   "outputs": [
    {
     "name": "stdout",
     "output_type": "stream",
     "text": [
      "Média: 0.02\n",
      "Moda: 0\n",
      "Mediana: 0.0\n",
      "Variância: 0.02\n",
      "Desvio Padrão: 0.13\n"
     ]
    }
   ],
   "source": [
    "#Estatísticas descritivas fumo\n",
    "print('Média: {}'.format(round(st.mean(cardio['fumo']),2)))\n",
    "print('Moda: {}'.format(round(st.mode(cardio['fumo']),2)))\n",
    "print('Mediana: {}'.format(round(st.median(cardio['fumo']),2)))\n",
    "print('Variância: {}'.format(round(st.variance(cardio['fumo']),2)))\n",
    "print('Desvio Padrão: {}'.format(round(st.stdev(cardio['fumo']),2)))"
   ]
  },
  {
   "cell_type": "code",
   "execution_count": 16,
   "metadata": {},
   "outputs": [
    {
     "name": "stdout",
     "output_type": "stream",
     "text": [
      "Média: 1.09\n",
      "Moda: 2\n",
      "Mediana: 1.0\n",
      "Variância: 0.82\n",
      "Desvio Padrão: 0.9\n"
     ]
    }
   ],
   "source": [
    "#Estatísticas descritivas fumo\n",
    "print('Média: {}'.format(round(st.mean(cardio['atvFisica']),2)))\n",
    "print('Moda: {}'.format(round(st.mode(cardio['atvFisica']),2)))\n",
    "print('Mediana: {}'.format(round(st.median(cardio['atvFisica']),2)))\n",
    "print('Variância: {}'.format(round(st.variance(cardio['atvFisica']),2)))\n",
    "print('Desvio Padrão: {}'.format(round(st.stdev(cardio['atvFisica']),2)))"
   ]
  },
  {
   "cell_type": "code",
   "execution_count": 17,
   "metadata": {},
   "outputs": [
    {
     "name": "stdout",
     "output_type": "stream",
     "text": [
      "Média: 1.26\n",
      "Moda: 0\n",
      "Mediana: 1.0\n",
      "Variância: 1.74\n",
      "Desvio Padrão: 1.32\n"
     ]
    }
   ],
   "source": [
    "#Estatísticas descritivas stress\n",
    "print('Média: {}'.format(round(st.mean(cardio['stress']),2)))\n",
    "print('Moda: {}'.format(round(st.mode(cardio['stress']),2)))\n",
    "print('Mediana: {}'.format(round(st.median(cardio['stress']),2)))\n",
    "print('Variância: {}'.format(round(st.variance(cardio['stress']),2)))\n",
    "print('Desvio Padrão: {}'.format(round(st.stdev(cardio['stress']),2)))"
   ]
  },
  {
   "cell_type": "code",
   "execution_count": 18,
   "metadata": {},
   "outputs": [
    {
     "name": "stdout",
     "output_type": "stream",
     "text": [
      "Média: 79.11\n",
      "Mediana: 78.33\n",
      "Variância: 151.67\n",
      "Desvio Padrão: 12.32\n"
     ]
    }
   ],
   "source": [
    "#Estatísticas descritivas pdiasto\n",
    "print('Média: {}'.format(round(st.mean(cardio['pdiasto']),2)))\n",
    "#print('Moda: {}'.format(round(st.mode(cardio['pdiasto']),2)))\n",
    "print('Mediana: {}'.format(round(st.median(cardio['pdiasto']),2)))\n",
    "print('Variância: {}'.format(round(st.variance(cardio['pdiasto']),2)))\n",
    "print('Desvio Padrão: {}'.format(round(st.stdev(cardio['pdiasto']),2)))"
   ]
  },
  {
   "cell_type": "code",
   "execution_count": 19,
   "metadata": {},
   "outputs": [
    {
     "name": "stdout",
     "output_type": "stream",
     "text": [
      "Média: 0.58\n",
      "Moda: 1\n",
      "Mediana: 1.0\n",
      "Variância: 0.24\n",
      "Desvio Padrão: 0.49\n"
     ]
    }
   ],
   "source": [
    "#Estatísticas descritivas Doença Card\n",
    "print('Média: {}'.format(round(st.mean(cardio['DoencaCard']),2)))\n",
    "print('Moda: {}'.format(round(st.mode(cardio['DoencaCard']),2)))\n",
    "print('Mediana: {}'.format(round(st.median(cardio['DoencaCard']),2)))\n",
    "print('Variância: {}'.format(round(st.variance(cardio['DoencaCard']),2)))\n",
    "print('Desvio Padrão: {}'.format(round(st.stdev(cardio['DoencaCard']),2)))"
   ]
  },
  {
   "cell_type": "code",
   "execution_count": 20,
   "metadata": {},
   "outputs": [
    {
     "name": "stdout",
     "output_type": "stream",
     "text": [
      "Média: 0.44\n",
      "Moda: 0\n",
      "Mediana: 0.0\n",
      "Variância: 0.25\n",
      "Desvio Padrão: 0.5\n"
     ]
    }
   ],
   "source": [
    "#Estatísticas descritivas Sexo_n\n",
    "print('Média: {}'.format(round(st.mean(cardio['Sexo_n']),2)))\n",
    "print('Moda: {}'.format(round(st.mode(cardio['Sexo_n']),2)))\n",
    "print('Mediana: {}'.format(round(st.median(cardio['Sexo_n']),2)))\n",
    "print('Variância: {}'.format(round(st.variance(cardio['Sexo_n']),2)))\n",
    "print('Desvio Padrão: {}'.format(round(st.stdev(cardio['Sexo_n']),2)))"
   ]
  },
  {
   "cell_type": "code",
   "execution_count": 21,
   "metadata": {},
   "outputs": [
    {
     "data": {
      "text/html": [
       "<div>\n",
       "<style scoped>\n",
       "    .dataframe tbody tr th:only-of-type {\n",
       "        vertical-align: middle;\n",
       "    }\n",
       "\n",
       "    .dataframe tbody tr th {\n",
       "        vertical-align: top;\n",
       "    }\n",
       "\n",
       "    .dataframe thead th {\n",
       "        text-align: right;\n",
       "    }\n",
       "</style>\n",
       "<table border=\"1\" class=\"dataframe\">\n",
       "  <thead>\n",
       "    <tr style=\"text-align: right;\">\n",
       "      <th>DoencaCard</th>\n",
       "      <th>0</th>\n",
       "      <th>1</th>\n",
       "    </tr>\n",
       "    <tr>\n",
       "      <th>Sexo</th>\n",
       "      <th></th>\n",
       "      <th></th>\n",
       "    </tr>\n",
       "  </thead>\n",
       "  <tbody>\n",
       "    <tr>\n",
       "      <th>Feminino</th>\n",
       "      <td>32.5</td>\n",
       "      <td>23.75</td>\n",
       "    </tr>\n",
       "    <tr>\n",
       "      <th>Masculino</th>\n",
       "      <td>9.0</td>\n",
       "      <td>34.75</td>\n",
       "    </tr>\n",
       "  </tbody>\n",
       "</table>\n",
       "</div>"
      ],
      "text/plain": [
       "DoencaCard     0      1\n",
       "Sexo                   \n",
       "Feminino    32.5  23.75\n",
       "Masculino    9.0  34.75"
      ]
     },
     "execution_count": 21,
     "metadata": {},
     "output_type": "execute_result"
    }
   ],
   "source": [
    "#Frequência cruzada entre doença cardíaca versus as variáveis qualitativas,\n",
    "#Doença cardiáca vs Sexo\n",
    "pd.crosstab(cardio['Sexo'],cardio['DoencaCard'],normalize=True)*100"
   ]
  },
  {
   "cell_type": "code",
   "execution_count": 22,
   "metadata": {},
   "outputs": [
    {
     "data": {
      "text/html": [
       "<div>\n",
       "<style scoped>\n",
       "    .dataframe tbody tr th:only-of-type {\n",
       "        vertical-align: middle;\n",
       "    }\n",
       "\n",
       "    .dataframe tbody tr th {\n",
       "        vertical-align: top;\n",
       "    }\n",
       "\n",
       "    .dataframe thead th {\n",
       "        text-align: right;\n",
       "    }\n",
       "</style>\n",
       "<table border=\"1\" class=\"dataframe\">\n",
       "  <thead>\n",
       "    <tr style=\"text-align: right;\">\n",
       "      <th>DoencaCard</th>\n",
       "      <th>0</th>\n",
       "      <th>1</th>\n",
       "    </tr>\n",
       "    <tr>\n",
       "      <th>fumo</th>\n",
       "      <th></th>\n",
       "      <th></th>\n",
       "    </tr>\n",
       "  </thead>\n",
       "  <tbody>\n",
       "    <tr>\n",
       "      <th>0</th>\n",
       "      <td>40.5</td>\n",
       "      <td>57.75</td>\n",
       "    </tr>\n",
       "    <tr>\n",
       "      <th>1</th>\n",
       "      <td>1.0</td>\n",
       "      <td>0.75</td>\n",
       "    </tr>\n",
       "  </tbody>\n",
       "</table>\n",
       "</div>"
      ],
      "text/plain": [
       "DoencaCard     0      1\n",
       "fumo                   \n",
       "0           40.5  57.75\n",
       "1            1.0   0.75"
      ]
     },
     "execution_count": 22,
     "metadata": {},
     "output_type": "execute_result"
    }
   ],
   "source": [
    "#Doença cardiáca  vs Fumantes e não fumantes\n",
    "pd.crosstab(cardio['fumo'],cardio['DoencaCard'],normalize=True)*100"
   ]
  },
  {
   "cell_type": "code",
   "execution_count": 23,
   "metadata": {},
   "outputs": [
    {
     "data": {
      "text/html": [
       "<div>\n",
       "<style scoped>\n",
       "    .dataframe tbody tr th:only-of-type {\n",
       "        vertical-align: middle;\n",
       "    }\n",
       "\n",
       "    .dataframe tbody tr th {\n",
       "        vertical-align: top;\n",
       "    }\n",
       "\n",
       "    .dataframe thead th {\n",
       "        text-align: right;\n",
       "    }\n",
       "</style>\n",
       "<table border=\"1\" class=\"dataframe\">\n",
       "  <thead>\n",
       "    <tr style=\"text-align: right;\">\n",
       "      <th>DoencaCard</th>\n",
       "      <th>0</th>\n",
       "      <th>1</th>\n",
       "    </tr>\n",
       "    <tr>\n",
       "      <th>atvFisica</th>\n",
       "      <th></th>\n",
       "      <th></th>\n",
       "    </tr>\n",
       "  </thead>\n",
       "  <tbody>\n",
       "    <tr>\n",
       "      <th>0</th>\n",
       "      <td>17.00</td>\n",
       "      <td>19.75</td>\n",
       "    </tr>\n",
       "    <tr>\n",
       "      <th>1</th>\n",
       "      <td>6.75</td>\n",
       "      <td>10.75</td>\n",
       "    </tr>\n",
       "    <tr>\n",
       "      <th>2</th>\n",
       "      <td>17.75</td>\n",
       "      <td>28.00</td>\n",
       "    </tr>\n",
       "  </tbody>\n",
       "</table>\n",
       "</div>"
      ],
      "text/plain": [
       "DoencaCard      0      1\n",
       "atvFisica               \n",
       "0           17.00  19.75\n",
       "1            6.75  10.75\n",
       "2           17.75  28.00"
      ]
     },
     "execution_count": 23,
     "metadata": {},
     "output_type": "execute_result"
    }
   ],
   "source": [
    "#Doença cardiáca  vs frequência semanal de atividade física\n",
    "pd.crosstab(cardio['atvFisica'],cardio['DoencaCard'],normalize=True)*100"
   ]
  },
  {
   "cell_type": "code",
   "execution_count": 24,
   "metadata": {},
   "outputs": [
    {
     "data": {
      "text/html": [
       "<div>\n",
       "<style scoped>\n",
       "    .dataframe tbody tr th:only-of-type {\n",
       "        vertical-align: middle;\n",
       "    }\n",
       "\n",
       "    .dataframe tbody tr th {\n",
       "        vertical-align: top;\n",
       "    }\n",
       "\n",
       "    .dataframe thead th {\n",
       "        text-align: right;\n",
       "    }\n",
       "</style>\n",
       "<table border=\"1\" class=\"dataframe\">\n",
       "  <thead>\n",
       "    <tr style=\"text-align: right;\">\n",
       "      <th>DoencaCard</th>\n",
       "      <th>0</th>\n",
       "      <th>1</th>\n",
       "    </tr>\n",
       "    <tr>\n",
       "      <th>stress</th>\n",
       "      <th></th>\n",
       "      <th></th>\n",
       "    </tr>\n",
       "  </thead>\n",
       "  <tbody>\n",
       "    <tr>\n",
       "      <th>0</th>\n",
       "      <td>14.00</td>\n",
       "      <td>30.50</td>\n",
       "    </tr>\n",
       "    <tr>\n",
       "      <th>1</th>\n",
       "      <td>5.25</td>\n",
       "      <td>4.75</td>\n",
       "    </tr>\n",
       "    <tr>\n",
       "      <th>2</th>\n",
       "      <td>11.75</td>\n",
       "      <td>16.75</td>\n",
       "    </tr>\n",
       "    <tr>\n",
       "      <th>3</th>\n",
       "      <td>5.75</td>\n",
       "      <td>3.50</td>\n",
       "    </tr>\n",
       "    <tr>\n",
       "      <th>4</th>\n",
       "      <td>4.75</td>\n",
       "      <td>3.00</td>\n",
       "    </tr>\n",
       "  </tbody>\n",
       "</table>\n",
       "</div>"
      ],
      "text/plain": [
       "DoencaCard      0      1\n",
       "stress                  \n",
       "0           14.00  30.50\n",
       "1            5.25   4.75\n",
       "2           11.75  16.75\n",
       "3            5.75   3.50\n",
       "4            4.75   3.00"
      ]
     },
     "execution_count": 24,
     "metadata": {},
     "output_type": "execute_result"
    }
   ],
   "source": [
    "#Doença cardiáca  vs nível de stress\n",
    "pd.crosstab(cardio['stress'],cardio['DoencaCard'],normalize=True)*100"
   ]
  },
  {
   "cell_type": "code",
   "execution_count": 25,
   "metadata": {},
   "outputs": [],
   "source": [
    "#https://www.kaggle.com/neisha/heart-disease-prediction-using-logistic-regression"
   ]
  },
  {
   "cell_type": "code",
   "execution_count": 26,
   "metadata": {},
   "outputs": [],
   "source": [
    "#Criando novo dataset \n",
    "cardio_n = cardio[['Idade','IMC','ccintura',\n",
    "                   'cquadril','frqCardiaca','fumo','atvFisica','stress','pdiasto','DoencaCard','Sexo_n']]"
   ]
  },
  {
   "cell_type": "code",
   "execution_count": 27,
   "metadata": {},
   "outputs": [
    {
     "data": {
      "image/png": "[encoded data removed]",
      "text/plain": [
       "<Figure size 1440x1440 with 11 Axes>"
      ]
     },
     "metadata": {
      "needs_background": "light"
     },
     "output_type": "display_data"
    }
   ],
   "source": [
    "#Função que cria múltiplos histogramas para analisar a distribuição de cada coluna\n",
    "def draw_histograms(cardio_n, features, rows, cols):\n",
    "    fig=plt.figure(figsize=(20,20))\n",
    "    for i, feature in enumerate(features):\n",
    "        ax=fig.add_subplot(rows,cols,i+1)\n",
    "        cardio_n[feature].hist(bins=50,ax=ax,facecolor='midnightblue')\n",
    "        ax.set_title(feature+\" Distribution\",color='Red')\n",
    "        \n",
    "    fig.tight_layout()  \n",
    "    plt.show()\n",
    "draw_histograms(cardio_n,cardio_n.columns,6,3)"
   ]
  },
  {
   "cell_type": "code",
   "execution_count": 28,
   "metadata": {},
   "outputs": [],
   "source": [
    "#Criando os intervalos de confiança\n",
    "from scipy.stats import norm"
   ]
  },
  {
   "cell_type": "code",
   "execution_count": 29,
   "metadata": {},
   "outputs": [
    {
     "data": {
      "text/plain": [
       "2.5758293035489004"
      ]
     },
     "execution_count": 29,
     "metadata": {},
     "output_type": "execute_result"
    }
   ],
   "source": [
    "#99% de confiança\n",
    "norm.ppf(0.995)"
   ]
  },
  {
   "cell_type": "code",
   "execution_count": 30,
   "metadata": {},
   "outputs": [],
   "source": [
    "#Parametrizando os dados para a construção do intervalo de confiança\n",
    "n = len(cardio_n)\n",
    "con_coef = 0.995\n",
    "alpha = 1 - con_coef"
   ]
  },
  {
   "cell_type": "code",
   "execution_count": 31,
   "metadata": {},
   "outputs": [],
   "source": [
    "#Criando as colunas para o calculo dos intervalos de confiança\n",
    "x_bar_idade = cardio_n['Idade'].mean()\n",
    "sigma_idade = cardio_n['Idade'].std()\n",
    "\n",
    "x_bar_imc = cardio_n['IMC'].mean()\n",
    "sigma_imc = cardio_n['IMC'].std()\n",
    "\n",
    "x_bar_ccintura = cardio_n['ccintura'].mean()\n",
    "sigma_ccintura = cardio_n['ccintura'].std()\n",
    "\n",
    "x_bar_cquadril = cardio_n['cquadril'].mean()\n",
    "sigma_cquadril = cardio_n['cquadril'].std()\n",
    "\n",
    "x_bar_frqCardiaca= cardio_n['frqCardiaca'].mean()\n",
    "sigma_frqCardiaca = cardio_n['frqCardiaca'].std()\n",
    "\n",
    "x_bar_pdiasto = cardio_n['pdiasto'].mean()\n",
    "sigma_pdiasto = cardio_n['pdiasto'].std()\n"
   ]
  },
  {
   "cell_type": "code",
   "execution_count": 32,
   "metadata": {},
   "outputs": [
    {
     "data": {
      "text/plain": [
       "(23.14, 6.030449053716785)"
      ]
     },
     "execution_count": 32,
     "metadata": {},
     "output_type": "execute_result"
    }
   ],
   "source": [
    "x_bar_idade, sigma_idade"
   ]
  },
  {
   "cell_type": "code",
   "execution_count": 33,
   "metadata": {},
   "outputs": [
    {
     "data": {
      "text/plain": [
       "2.5758293035489004"
      ]
     },
     "execution_count": 33,
     "metadata": {},
     "output_type": "execute_result"
    }
   ],
   "source": [
    "z_critical = stats.norm.ppf(q=0.995)\n",
    "z_critical"
   ]
  },
  {
   "cell_type": "code",
   "execution_count": 34,
   "metadata": {},
   "outputs": [
    {
     "data": {
      "text/plain": [
       "(-2.807033768343804, 2.807033768343811)"
      ]
     },
     "execution_count": 34,
     "metadata": {},
     "output_type": "execute_result"
    }
   ],
   "source": [
    "zinterval = stats.norm.interval(alpha=con_coef)\n",
    "zinterval"
   ]
  },
  {
   "cell_type": "code",
   "execution_count": 35,
   "metadata": {},
   "outputs": [],
   "source": [
    "#Calculo dos valores de erro padrão para cada coluna\n",
    "standard_error_idade = sigma_idade/math.sqrt(n)\n",
    "\n",
    "standard_error_imc = sigma_imc/math.sqrt(n)\n",
    "\n",
    "standard_error_ccintura = sigma_ccintura/math.sqrt(n)\n",
    "\n",
    "standard_error_cquadril= sigma_cquadril/math.sqrt(n)\n",
    "\n",
    "standard_error_frqCardiaca= sigma_frqCardiaca/math.sqrt(n)\n",
    "\n",
    "standard_error_pdiasto= sigma_pdiasto/math.sqrt(n)"
   ]
  },
  {
   "cell_type": "code",
   "execution_count": 36,
   "metadata": {},
   "outputs": [
    {
     "data": {
      "text/plain": [
       "(0.3015224526858392,\n",
       " 0.21357509989269094,\n",
       " 0.5662185497802843,\n",
       " 0.44532293413225454,\n",
       " 0.5893639577431896,\n",
       " 0.615764011727787)"
      ]
     },
     "execution_count": 36,
     "metadata": {},
     "output_type": "execute_result"
    }
   ],
   "source": [
    "#Saída do cálculo do erro padrão\n",
    "standard_error_idade, standard_error_imc, standard_error_ccintura, standard_error_cquadril, standard_error_frqCardiaca, standard_error_pdiasto"
   ]
  },
  {
   "cell_type": "code",
   "execution_count": 37,
   "metadata": {},
   "outputs": [],
   "source": [
    "#Cálculo dos limites superiores e inferiores das caudas com 99% de confiança\n",
    "idade_lower = x_bar_idade - z_critical * standard_error_idade\n",
    "idade_upper = x_bar_idade + z_critical * standard_error_idade\n",
    "\n",
    "imc_lower = x_bar_imc - z_critical * standard_error_imc\n",
    "imc_upper = x_bar_imc + z_critical * standard_error_imc\n",
    "\n",
    "ccintura_lower = x_bar_ccintura - z_critical * standard_error_ccintura\n",
    "ccintura_upper = x_bar_ccintura + z_critical * standard_error_ccintura\n",
    "\n",
    "cquadril_lower = x_bar_cquadril - z_critical * standard_error_cquadril\n",
    "cquadril_upper = x_bar_cquadril + z_critical * standard_error_cquadril\n",
    "\n",
    "frqCardiaca_lower = x_bar_frqCardiaca - z_critical * standard_error_frqCardiaca\n",
    "frqCardiaca_upper = x_bar_frqCardiaca + z_critical * standard_error_frqCardiaca\n",
    "\n",
    "pdiasto_lower = x_bar_frqCardiaca - z_critical * standard_error_pdiasto\n",
    "pdiasto_upper = x_bar_frqCardiaca + z_critical * standard_error_pdiasto"
   ]
  },
  {
   "cell_type": "code",
   "execution_count": 38,
   "metadata": {},
   "outputs": [
    {
     "data": {
      "text/plain": [
       "(22.36332963069388, 23.91667036930612, 100.53542413671977, 102.82957586328024)"
      ]
     },
     "execution_count": 38,
     "metadata": {},
     "output_type": "execute_result"
    }
   ],
   "source": [
    "idade_lower, idade_upper, cquadril_lower, cquadril_upper"
   ]
  },
  {
   "cell_type": "code",
   "execution_count": 39,
   "metadata": {},
   "outputs": [],
   "source": [
    "ic = {'IC_Idade': [idade_lower, idade_upper],\n",
    "      'IC_IMC':   [imc_lower, imc_upper],\n",
    "      'IC_ccintura':   [ccintura_lower, ccintura_upper],\n",
    "      'IC_cquadril':   [cquadril_lower, cquadril_upper],\n",
    "      'IC_frqCardiaca':   [frqCardiaca_lower, frqCardiaca_upper],\n",
    "      'IC_pdiasto':   [pdiasto_lower, pdiasto_upper]\n",
    "        }\n",
    "\n",
    "df_ic = pd.DataFrame (ic, index =['Intervalo Baixo', '  Intervalo Alto'], columns = ['IC_Idade', 'IC_IMC', 'IC_ccintura', \n",
    "                                                                                 'IC_cquadril', 'IC_frqCardiaca', 'IC_pdiasto'])"
   ]
  },
  {
   "cell_type": "code",
   "execution_count": 40,
   "metadata": {},
   "outputs": [
    {
     "data": {
      "text/html": [
       "<div>\n",
       "<style scoped>\n",
       "    .dataframe tbody tr th:only-of-type {\n",
       "        vertical-align: middle;\n",
       "    }\n",
       "\n",
       "    .dataframe tbody tr th {\n",
       "        vertical-align: top;\n",
       "    }\n",
       "\n",
       "    .dataframe thead th {\n",
       "        text-align: right;\n",
       "    }\n",
       "</style>\n",
       "<table border=\"1\" class=\"dataframe\">\n",
       "  <thead>\n",
       "    <tr style=\"text-align: right;\">\n",
       "      <th></th>\n",
       "      <th>IC_Idade</th>\n",
       "      <th>IC_IMC</th>\n",
       "      <th>IC_ccintura</th>\n",
       "      <th>IC_cquadril</th>\n",
       "      <th>IC_frqCardiaca</th>\n",
       "      <th>IC_pdiasto</th>\n",
       "    </tr>\n",
       "  </thead>\n",
       "  <tbody>\n",
       "    <tr>\n",
       "      <th>Intervalo Baixo</th>\n",
       "      <td>22.36333</td>\n",
       "      <td>23.444942</td>\n",
       "      <td>79.476518</td>\n",
       "      <td>100.535424</td>\n",
       "      <td>78.301899</td>\n",
       "      <td>78.233897</td>\n",
       "    </tr>\n",
       "    <tr>\n",
       "      <th>Intervalo Alto</th>\n",
       "      <td>23.91667</td>\n",
       "      <td>24.545208</td>\n",
       "      <td>82.393482</td>\n",
       "      <td>102.829576</td>\n",
       "      <td>81.338101</td>\n",
       "      <td>81.406103</td>\n",
       "    </tr>\n",
       "  </tbody>\n",
       "</table>\n",
       "</div>"
      ],
      "text/plain": [
       "                  IC_Idade     IC_IMC  IC_ccintura  IC_cquadril  \\\n",
       "Intervalo Baixo   22.36333  23.444942    79.476518   100.535424   \n",
       "  Intervalo Alto  23.91667  24.545208    82.393482   102.829576   \n",
       "\n",
       "                  IC_frqCardiaca  IC_pdiasto  \n",
       "Intervalo Baixo        78.301899   78.233897  \n",
       "  Intervalo Alto       81.338101   81.406103  "
      ]
     },
     "execution_count": 40,
     "metadata": {},
     "output_type": "execute_result"
    }
   ],
   "source": [
    "#Intervalo de confiança criado\n",
    "df_ic.head()"
   ]
  },
  {
   "cell_type": "code",
   "execution_count": 41,
   "metadata": {},
   "outputs": [
    {
     "data": {
      "text/html": [
       "<div>\n",
       "<style scoped>\n",
       "    .dataframe tbody tr th:only-of-type {\n",
       "        vertical-align: middle;\n",
       "    }\n",
       "\n",
       "    .dataframe tbody tr th {\n",
       "        vertical-align: top;\n",
       "    }\n",
       "\n",
       "    .dataframe thead th {\n",
       "        text-align: right;\n",
       "    }\n",
       "</style>\n",
       "<table border=\"1\" class=\"dataframe\">\n",
       "  <thead>\n",
       "    <tr style=\"text-align: right;\">\n",
       "      <th></th>\n",
       "      <th>Intervalo Baixo</th>\n",
       "      <th>Intervalo Alto</th>\n",
       "    </tr>\n",
       "  </thead>\n",
       "  <tbody>\n",
       "    <tr>\n",
       "      <th>IC_Idade</th>\n",
       "      <td>22.363330</td>\n",
       "      <td>23.916670</td>\n",
       "    </tr>\n",
       "    <tr>\n",
       "      <th>IC_IMC</th>\n",
       "      <td>23.444942</td>\n",
       "      <td>24.545208</td>\n",
       "    </tr>\n",
       "    <tr>\n",
       "      <th>IC_ccintura</th>\n",
       "      <td>79.476518</td>\n",
       "      <td>82.393482</td>\n",
       "    </tr>\n",
       "    <tr>\n",
       "      <th>IC_cquadril</th>\n",
       "      <td>100.535424</td>\n",
       "      <td>102.829576</td>\n",
       "    </tr>\n",
       "    <tr>\n",
       "      <th>IC_frqCardiaca</th>\n",
       "      <td>78.301899</td>\n",
       "      <td>81.338101</td>\n",
       "    </tr>\n",
       "    <tr>\n",
       "      <th>IC_pdiasto</th>\n",
       "      <td>78.233897</td>\n",
       "      <td>81.406103</td>\n",
       "    </tr>\n",
       "  </tbody>\n",
       "</table>\n",
       "</div>"
      ],
      "text/plain": [
       "                Intervalo Baixo    Intervalo Alto\n",
       "IC_Idade              22.363330         23.916670\n",
       "IC_IMC                23.444942         24.545208\n",
       "IC_ccintura           79.476518         82.393482\n",
       "IC_cquadril          100.535424        102.829576\n",
       "IC_frqCardiaca        78.301899         81.338101\n",
       "IC_pdiasto            78.233897         81.406103"
      ]
     },
     "execution_count": 41,
     "metadata": {},
     "output_type": "execute_result"
    }
   ],
   "source": [
    "#Transpondo a matriz do intervalo de confiança\n",
    "df_ic.T"
   ]
  },
  {
   "cell_type": "code",
   "execution_count": 42,
   "metadata": {},
   "outputs": [
    {
     "data": {
      "text/html": [
       "<div>\n",
       "<style scoped>\n",
       "    .dataframe tbody tr th:only-of-type {\n",
       "        vertical-align: middle;\n",
       "    }\n",
       "\n",
       "    .dataframe tbody tr th {\n",
       "        vertical-align: top;\n",
       "    }\n",
       "\n",
       "    .dataframe thead th {\n",
       "        text-align: right;\n",
       "    }\n",
       "</style>\n",
       "<table border=\"1\" class=\"dataframe\">\n",
       "  <thead>\n",
       "    <tr style=\"text-align: right;\">\n",
       "      <th></th>\n",
       "      <th>Idade</th>\n",
       "      <th>IMC</th>\n",
       "      <th>ccintura</th>\n",
       "      <th>cquadril</th>\n",
       "      <th>frqCardiaca</th>\n",
       "      <th>fumo</th>\n",
       "      <th>atvFisica</th>\n",
       "      <th>stress</th>\n",
       "      <th>pdiasto</th>\n",
       "      <th>DoencaCard</th>\n",
       "      <th>Sexo_n</th>\n",
       "    </tr>\n",
       "  </thead>\n",
       "  <tbody>\n",
       "    <tr>\n",
       "      <th>Idade</th>\n",
       "      <td>1.000000</td>\n",
       "      <td>0.200772</td>\n",
       "      <td>0.255931</td>\n",
       "      <td>0.126026</td>\n",
       "      <td>-0.101436</td>\n",
       "      <td>0.063374</td>\n",
       "      <td>-0.117586</td>\n",
       "      <td>-0.000448</td>\n",
       "      <td>0.195743</td>\n",
       "      <td>0.060857</td>\n",
       "      <td>0.097479</td>\n",
       "    </tr>\n",
       "    <tr>\n",
       "      <th>IMC</th>\n",
       "      <td>0.200772</td>\n",
       "      <td>1.000000</td>\n",
       "      <td>0.845674</td>\n",
       "      <td>0.832651</td>\n",
       "      <td>0.121858</td>\n",
       "      <td>0.059950</td>\n",
       "      <td>-0.027868</td>\n",
       "      <td>-0.002126</td>\n",
       "      <td>0.303754</td>\n",
       "      <td>0.261322</td>\n",
       "      <td>0.198221</td>\n",
       "    </tr>\n",
       "    <tr>\n",
       "      <th>ccintura</th>\n",
       "      <td>0.255931</td>\n",
       "      <td>0.845674</td>\n",
       "      <td>1.000000</td>\n",
       "      <td>0.747500</td>\n",
       "      <td>0.089398</td>\n",
       "      <td>0.059767</td>\n",
       "      <td>-0.043693</td>\n",
       "      <td>-0.067081</td>\n",
       "      <td>0.300848</td>\n",
       "      <td>0.287204</td>\n",
       "      <td>0.399846</td>\n",
       "    </tr>\n",
       "    <tr>\n",
       "      <th>cquadril</th>\n",
       "      <td>0.126026</td>\n",
       "      <td>0.832651</td>\n",
       "      <td>0.747500</td>\n",
       "      <td>1.000000</td>\n",
       "      <td>0.134743</td>\n",
       "      <td>0.047631</td>\n",
       "      <td>-0.004220</td>\n",
       "      <td>0.018947</td>\n",
       "      <td>0.254350</td>\n",
       "      <td>0.182695</td>\n",
       "      <td>0.123824</td>\n",
       "    </tr>\n",
       "    <tr>\n",
       "      <th>frqCardiaca</th>\n",
       "      <td>-0.101436</td>\n",
       "      <td>0.121858</td>\n",
       "      <td>0.089398</td>\n",
       "      <td>0.134743</td>\n",
       "      <td>1.000000</td>\n",
       "      <td>-0.062740</td>\n",
       "      <td>-0.157542</td>\n",
       "      <td>0.059804</td>\n",
       "      <td>0.091573</td>\n",
       "      <td>0.036686</td>\n",
       "      <td>-0.155605</td>\n",
       "    </tr>\n",
       "    <tr>\n",
       "      <th>fumo</th>\n",
       "      <td>0.063374</td>\n",
       "      <td>0.059950</td>\n",
       "      <td>0.059767</td>\n",
       "      <td>0.047631</td>\n",
       "      <td>-0.062740</td>\n",
       "      <td>1.000000</td>\n",
       "      <td>-0.013290</td>\n",
       "      <td>0.031843</td>\n",
       "      <td>-0.027596</td>\n",
       "      <td>-0.042371</td>\n",
       "      <td>-0.040835</td>\n",
       "    </tr>\n",
       "    <tr>\n",
       "      <th>atvFisica</th>\n",
       "      <td>-0.117586</td>\n",
       "      <td>-0.027868</td>\n",
       "      <td>-0.043693</td>\n",
       "      <td>-0.004220</td>\n",
       "      <td>-0.157542</td>\n",
       "      <td>-0.013290</td>\n",
       "      <td>1.000000</td>\n",
       "      <td>-0.189769</td>\n",
       "      <td>-0.019738</td>\n",
       "      <td>0.067028</td>\n",
       "      <td>0.202122</td>\n",
       "    </tr>\n",
       "    <tr>\n",
       "      <th>stress</th>\n",
       "      <td>-0.000448</td>\n",
       "      <td>-0.002126</td>\n",
       "      <td>-0.067081</td>\n",
       "      <td>0.018947</td>\n",
       "      <td>0.059804</td>\n",
       "      <td>0.031843</td>\n",
       "      <td>-0.189769</td>\n",
       "      <td>1.000000</td>\n",
       "      <td>-0.091859</td>\n",
       "      <td>-0.197652</td>\n",
       "      <td>-0.256860</td>\n",
       "    </tr>\n",
       "    <tr>\n",
       "      <th>pdiasto</th>\n",
       "      <td>0.195743</td>\n",
       "      <td>0.303754</td>\n",
       "      <td>0.300848</td>\n",
       "      <td>0.254350</td>\n",
       "      <td>0.091573</td>\n",
       "      <td>-0.027596</td>\n",
       "      <td>-0.019738</td>\n",
       "      <td>-0.091859</td>\n",
       "      <td>1.000000</td>\n",
       "      <td>0.606290</td>\n",
       "      <td>0.260394</td>\n",
       "    </tr>\n",
       "    <tr>\n",
       "      <th>DoencaCard</th>\n",
       "      <td>0.060857</td>\n",
       "      <td>0.261322</td>\n",
       "      <td>0.287204</td>\n",
       "      <td>0.182695</td>\n",
       "      <td>0.036686</td>\n",
       "      <td>-0.042371</td>\n",
       "      <td>0.067028</td>\n",
       "      <td>-0.197652</td>\n",
       "      <td>0.606290</td>\n",
       "      <td>1.000000</td>\n",
       "      <td>0.374598</td>\n",
       "    </tr>\n",
       "    <tr>\n",
       "      <th>Sexo_n</th>\n",
       "      <td>0.097479</td>\n",
       "      <td>0.198221</td>\n",
       "      <td>0.399846</td>\n",
       "      <td>0.123824</td>\n",
       "      <td>-0.155605</td>\n",
       "      <td>-0.040835</td>\n",
       "      <td>0.202122</td>\n",
       "      <td>-0.256860</td>\n",
       "      <td>0.260394</td>\n",
       "      <td>0.374598</td>\n",
       "      <td>1.000000</td>\n",
       "    </tr>\n",
       "  </tbody>\n",
       "</table>\n",
       "</div>"
      ],
      "text/plain": [
       "                Idade       IMC  ccintura  cquadril  frqCardiaca      fumo  \\\n",
       "Idade        1.000000  0.200772  0.255931  0.126026    -0.101436  0.063374   \n",
       "IMC          0.200772  1.000000  0.845674  0.832651     0.121858  0.059950   \n",
       "ccintura     0.255931  0.845674  1.000000  0.747500     0.089398  0.059767   \n",
       "cquadril     0.126026  0.832651  0.747500  1.000000     0.134743  0.047631   \n",
       "frqCardiaca -0.101436  0.121858  0.089398  0.134743     1.000000 -0.062740   \n",
       "fumo         0.063374  0.059950  0.059767  0.047631    -0.062740  1.000000   \n",
       "atvFisica   -0.117586 -0.027868 -0.043693 -0.004220    -0.157542 -0.013290   \n",
       "stress      -0.000448 -0.002126 -0.067081  0.018947     0.059804  0.031843   \n",
       "pdiasto      0.195743  0.303754  0.300848  0.254350     0.091573 -0.027596   \n",
       "DoencaCard   0.060857  0.261322  0.287204  0.182695     0.036686 -0.042371   \n",
       "Sexo_n       0.097479  0.198221  0.399846  0.123824    -0.155605 -0.040835   \n",
       "\n",
       "             atvFisica    stress   pdiasto  DoencaCard    Sexo_n  \n",
       "Idade        -0.117586 -0.000448  0.195743    0.060857  0.097479  \n",
       "IMC          -0.027868 -0.002126  0.303754    0.261322  0.198221  \n",
       "ccintura     -0.043693 -0.067081  0.300848    0.287204  0.399846  \n",
       "cquadril     -0.004220  0.018947  0.254350    0.182695  0.123824  \n",
       "frqCardiaca  -0.157542  0.059804  0.091573    0.036686 -0.155605  \n",
       "fumo         -0.013290  0.031843 -0.027596   -0.042371 -0.040835  \n",
       "atvFisica     1.000000 -0.189769 -0.019738    0.067028  0.202122  \n",
       "stress       -0.189769  1.000000 -0.091859   -0.197652 -0.256860  \n",
       "pdiasto      -0.019738 -0.091859  1.000000    0.606290  0.260394  \n",
       "DoencaCard    0.067028 -0.197652  0.606290    1.000000  0.374598  \n",
       "Sexo_n        0.202122 -0.256860  0.260394    0.374598  1.000000  "
      ]
     },
     "execution_count": 42,
     "metadata": {},
     "output_type": "execute_result"
    }
   ],
   "source": [
    "#Matriz de correlação\n",
    "corr = cardio_n.corr()\n",
    "corr"
   ]
  },
  {
   "cell_type": "code",
   "execution_count": 43,
   "metadata": {},
   "outputs": [
    {
     "data": {
      "text/plain": [
       "<matplotlib.axes._subplots.AxesSubplot at 0x25ac4a6a2b0>"
      ]
     },
     "execution_count": 43,
     "metadata": {},
     "output_type": "execute_result"
    },
    {
     "data": {
      "image/png": "[encoded data removed]",
      "text/plain": [
       "<Figure size 720x360 with 2 Axes>"
      ]
     },
     "metadata": {
      "needs_background": "light"
     },
     "output_type": "display_data"
    }
   ],
   "source": [
    "#Correlação de multiplas variáveis\n",
    "%matplotlib inline\n",
    "import seaborn as sns\n",
    "fig = plt.figure(figsize=(10,5))\n",
    "fig.suptitle('Correlação Doenças Cardíacas')\n",
    "#plt.figure(figsize=(5,5))\n",
    "sns.heatmap(corr, annot = True, linewidth=0.2)"
   ]
  },
  {
   "cell_type": "code",
   "execution_count": 44,
   "metadata": {},
   "outputs": [
    {
     "name": "stderr",
     "output_type": "stream",
     "text": [
      "C:\\ProgramData\\Anaconda3\\lib\\site-packages\\seaborn\\axisgrid.py:1847: UserWarning: JointGrid annotation is deprecated and will be removed in a future release.\n",
      "  warnings.warn(UserWarning(msg))\n"
     ]
    },
    {
     "data": {
      "text/plain": [
       "<seaborn.axisgrid.JointGrid at 0x25ac5337e80>"
      ]
     },
     "execution_count": 44,
     "metadata": {},
     "output_type": "execute_result"
    },
    {
     "data": {
      "image/png": "[encoded data removed]",
      "text/plain": [
       "<Figure size 432x432 with 3 Axes>"
      ]
     },
     "metadata": {
      "needs_background": "light"
     },
     "output_type": "display_data"
    }
   ],
   "source": [
    "#Gráfico de correlação entre IMC e Circunferência da cintura\n",
    "sns.jointplot(x=cardio_n[\"ccintura\"], y=cardio_n[\"IMC\"], kind='scatter', s=100, color='b', \n",
    "              edgecolor=\"skyblue\", linewidth=1.5).annotate(stats.pearsonr)"
   ]
  },
  {
   "cell_type": "code",
   "execution_count": 45,
   "metadata": {},
   "outputs": [
    {
     "name": "stderr",
     "output_type": "stream",
     "text": [
      "C:\\ProgramData\\Anaconda3\\lib\\site-packages\\seaborn\\axisgrid.py:1847: UserWarning: JointGrid annotation is deprecated and will be removed in a future release.\n",
      "  warnings.warn(UserWarning(msg))\n"
     ]
    },
    {
     "data": {
      "text/plain": [
       "<seaborn.axisgrid.JointGrid at 0x25ac54ce748>"
      ]
     },
     "execution_count": 45,
     "metadata": {},
     "output_type": "execute_result"
    },
    {
     "data": {
      "image/png": "[encoded data removed]",
      "text/plain": [
       "<Figure size 432x432 with 3 Axes>"
      ]
     },
     "metadata": {
      "needs_background": "light"
     },
     "output_type": "display_data"
    }
   ],
   "source": [
    "#Gráfico de correlação entre IMC e Circunferência do quadril\n",
    "sns.jointplot(x=cardio_n[\"cquadril\"], y=cardio_n[\"IMC\"], kind='scatter', s=100, color='b', \n",
    "              edgecolor=\"skyblue\", linewidth=1.5).annotate(stats.pearsonr)"
   ]
  },
  {
   "cell_type": "code",
   "execution_count": 55,
   "metadata": {},
   "outputs": [
    {
     "data": {
      "text/html": [
       "<table class=\"simpletable\">\n",
       "<caption>OLS Regression Results</caption>\n",
       "<tr>\n",
       "  <th>Dep. Variable:</th>           <td>IMC</td>       <th>  R-squared:         </th> <td>   0.715</td> \n",
       "</tr>\n",
       "<tr>\n",
       "  <th>Model:</th>                   <td>OLS</td>       <th>  Adj. R-squared:    </th> <td>   0.714</td> \n",
       "</tr>\n",
       "<tr>\n",
       "  <th>Method:</th>             <td>Least Squares</td>  <th>  F-statistic:       </th> <td>   999.3</td> \n",
       "</tr>\n",
       "<tr>\n",
       "  <th>Date:</th>             <td>Thu, 16 Jan 2020</td> <th>  Prob (F-statistic):</th> <td>1.37e-110</td>\n",
       "</tr>\n",
       "<tr>\n",
       "  <th>Time:</th>                 <td>21:14:24</td>     <th>  Log-Likelihood:    </th> <td> -896.69</td> \n",
       "</tr>\n",
       "<tr>\n",
       "  <th>No. Observations:</th>      <td>   400</td>      <th>  AIC:               </th> <td>   1797.</td> \n",
       "</tr>\n",
       "<tr>\n",
       "  <th>Df Residuals:</th>          <td>   398</td>      <th>  BIC:               </th> <td>   1805.</td> \n",
       "</tr>\n",
       "<tr>\n",
       "  <th>Df Model:</th>              <td>     1</td>      <th>                     </th>     <td> </td>    \n",
       "</tr>\n",
       "<tr>\n",
       "  <th>Covariance Type:</th>      <td>nonrobust</td>    <th>                     </th>     <td> </td>    \n",
       "</tr>\n",
       "</table>\n",
       "<table class=\"simpletable\">\n",
       "<tr>\n",
       "      <td></td>        <th>coef</th>     <th>std err</th>      <th>t</th>      <th>P>|t|</th>  <th>[0.025</th>    <th>0.975]</th>  \n",
       "</tr>\n",
       "<tr>\n",
       "  <th>const</th>    <td>   -1.8219</td> <td>    0.825</td> <td>   -2.209</td> <td> 0.028</td> <td>   -3.443</td> <td>   -0.201</td>\n",
       "</tr>\n",
       "<tr>\n",
       "  <th>ccintura</th> <td>    0.3190</td> <td>    0.010</td> <td>   31.612</td> <td> 0.000</td> <td>    0.299</td> <td>    0.339</td>\n",
       "</tr>\n",
       "</table>\n",
       "<table class=\"simpletable\">\n",
       "<tr>\n",
       "  <th>Omnibus:</th>       <td>48.680</td> <th>  Durbin-Watson:     </th> <td>   1.930</td>\n",
       "</tr>\n",
       "<tr>\n",
       "  <th>Prob(Omnibus):</th> <td> 0.000</td> <th>  Jarque-Bera (JB):  </th> <td> 120.017</td>\n",
       "</tr>\n",
       "<tr>\n",
       "  <th>Skew:</th>          <td> 0.609</td> <th>  Prob(JB):          </th> <td>8.68e-27</td>\n",
       "</tr>\n",
       "<tr>\n",
       "  <th>Kurtosis:</th>      <td> 5.391</td> <th>  Cond. No.          </th> <td>    591.</td>\n",
       "</tr>\n",
       "</table><br/><br/>Warnings:<br/>[1] Standard Errors assume that the covariance matrix of the errors is correctly specified."
      ],
      "text/plain": [
       "<class 'statsmodels.iolib.summary.Summary'>\n",
       "\"\"\"\n",
       "                            OLS Regression Results                            \n",
       "==============================================================================\n",
       "Dep. Variable:                    IMC   R-squared:                       0.715\n",
       "Model:                            OLS   Adj. R-squared:                  0.714\n",
       "Method:                 Least Squares   F-statistic:                     999.3\n",
       "Date:                Thu, 16 Jan 2020   Prob (F-statistic):          1.37e-110\n",
       "Time:                        21:14:24   Log-Likelihood:                -896.69\n",
       "No. Observations:                 400   AIC:                             1797.\n",
       "Df Residuals:                     398   BIC:                             1805.\n",
       "Df Model:                           1                                         \n",
       "Covariance Type:            nonrobust                                         \n",
       "==============================================================================\n",
       "                 coef    std err          t      P>|t|      [0.025      0.975]\n",
       "------------------------------------------------------------------------------\n",
       "const         -1.8219      0.825     -2.209      0.028      -3.443      -0.201\n",
       "ccintura       0.3190      0.010     31.612      0.000       0.299       0.339\n",
       "==============================================================================\n",
       "Omnibus:                       48.680   Durbin-Watson:                   1.930\n",
       "Prob(Omnibus):                  0.000   Jarque-Bera (JB):              120.017\n",
       "Skew:                           0.609   Prob(JB):                     8.68e-27\n",
       "Kurtosis:                       5.391   Cond. No.                         591.\n",
       "==============================================================================\n",
       "\n",
       "Warnings:\n",
       "[1] Standard Errors assume that the covariance matrix of the errors is correctly specified.\n",
       "\"\"\""
      ]
     },
     "execution_count": 55,
     "metadata": {},
     "output_type": "execute_result"
    }
   ],
   "source": [
    "#Criando variáveis para a equação de regressão linear\n",
    "x = cardio_n[\"ccintura\"] \n",
    "y = cardio_n[\"IMC\"]\n",
    "\n",
    "# Argumentos para o modelo de regressão\n",
    "x = sm.add_constant(x) #constante\n",
    "model = sm.OLS(y, x).fit()\n",
    "predictions = model.predict(x) # saída do modelo de predição\n",
    "\n",
    "\n",
    "# Imprimir estatísticas\n",
    "model.summary()"
   ]
  },
  {
   "cell_type": "code",
   "execution_count": 56,
   "metadata": {},
   "outputs": [
    {
     "data": {
      "image/png": "[encoded data removed]",
      "text/plain": [
       "<Figure size 864x504 with 1 Axes>"
      ]
     },
     "metadata": {
      "needs_background": "light"
     },
     "output_type": "display_data"
    }
   ],
   "source": [
    "#Salva os resultados da regressão elaborada\n",
    "plt.rc('figure', figsize=(12, 7))\n",
    "#plt.text(0.01, 0.05, str(model.summary()), {'fontsize': 12}) old approach\n",
    "plt.text(0.01, 0.05, str(model.summary()), {'fontsize': 10}, fontproperties = 'monospace') # approach improved by OP -> monospace!\n",
    "plt.axis('off')\n",
    "plt.tight_layout()\n",
    "plt.savefig('output.png')"
   ]
  },
  {
   "cell_type": "code",
   "execution_count": 57,
   "metadata": {},
   "outputs": [
    {
     "data": {
      "text/plain": [
       "const      -1.821942\n",
       "ccintura    0.318985\n",
       "dtype: float64"
      ]
     },
     "execution_count": 57,
     "metadata": {},
     "output_type": "execute_result"
    }
   ],
   "source": [
    "#Visualizando os parâmetros do modelo de regressão linear\n",
    "model.params"
   ]
  },
  {
   "cell_type": "code",
   "execution_count": null,
   "metadata": {},
   "outputs": [],
   "source": []
  }
 ],
 "metadata": {
  "kernelspec": {
   "display_name": "Python 3",
   "language": "python",
   "name": "python3"
  },
  "language_info": {
   "codemirror_mode": {
    "name": "ipython",
    "version": 3
   },
   "file_extension": ".py",
   "mimetype": "text/x-python",
   "name": "python",
   "nbconvert_exporter": "python",
   "pygments_lexer": "ipython3",
   "version": "3.7.4"
  }
 },
 "nbformat": 4,
 "nbformat_minor": 2
}
