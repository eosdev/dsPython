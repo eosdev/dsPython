{
 "cells": [
  {
   "cell_type": "code",
   "execution_count": 1,
   "metadata": {},
   "outputs": [],
   "source": [
    "#Bibliotecas de manipulação\n",
    "import pandas as pd \n",
    "import numpy as np\n",
    "import os\n",
    "import shutil\n",
    "import glob\n",
    "import re"
   ]
  },
  {
   "cell_type": "code",
   "execution_count": 2,
   "metadata": {},
   "outputs": [
    {
     "data": {
      "text/plain": [
       "['dados.xlsx',\n",
       " 'exemplo.txt',\n",
       " 'facebook.xlsx',\n",
       " 'google.xlsx',\n",
       " 'google2.xlsx',\n",
       " 'google3.xlsx',\n",
       " 'outros',\n",
       " 'plan1.xlsx',\n",
       " 'plan2.xlsx',\n",
       " 'plan3.xlsx']"
      ]
     },
     "execution_count": 2,
     "metadata": {},
     "output_type": "execute_result"
    }
   ],
   "source": [
    "#Lista os arquivos dentro de um diretório\n",
    "os.listdir('D:/Excel')"
   ]
  },
  {
   "cell_type": "code",
   "execution_count": 3,
   "metadata": {},
   "outputs": [
    {
     "data": {
      "text/plain": [
       "[('D:/Excel',\n",
       "  ['dados.xlsx',\n",
       "   'exemplo.txt',\n",
       "   'facebook.xlsx',\n",
       "   'google.xlsx',\n",
       "   'google2.xlsx',\n",
       "   'google3.xlsx',\n",
       "   'plan1.xlsx',\n",
       "   'plan2.xlsx',\n",
       "   'plan3.xlsx']),\n",
       " ('D:/Excel\\\\outros', [])]"
      ]
     },
     "execution_count": 3,
     "metadata": {},
     "output_type": "execute_result"
    }
   ],
   "source": [
    "#Lista os diretório e os arquivos dentro dele\n",
    "data_files = [(x[0], x[2]) for x in os.walk('D:/Excel')]\n",
    "data_files"
   ]
  },
  {
   "cell_type": "code",
   "execution_count": 4,
   "metadata": {},
   "outputs": [
    {
     "name": "stdout",
     "output_type": "stream",
     "text": [
      "dados.xlsx\n",
      "exemplo.txt\n",
      "facebook.xlsx\n",
      "google.xlsx\n",
      "google2.xlsx\n",
      "google3.xlsx\n",
      "outros\n",
      "plan1.xlsx\n",
      "plan2.xlsx\n",
      "plan3.xlsx\n"
     ]
    }
   ],
   "source": [
    "#Cria lista de iteração dpara listar todos os arquivos no diretório\n",
    "files = os.listdir('D:/Excel')\n",
    "for file in files:\n",
    "    print(file)"
   ]
  },
  {
   "cell_type": "code",
   "execution_count": 5,
   "metadata": {},
   "outputs": [
    {
     "data": {
      "text/plain": [
       "'D:/Excel/outros/facebook.xlsx'"
      ]
     },
     "execution_count": 5,
     "metadata": {},
     "output_type": "execute_result"
    }
   ],
   "source": [
    "#Movendo os arquivos\n",
    "shutil.move('D:/Excel/google.xlsx', 'D:/Excel/outros/google.xlsx')\n",
    "shutil.move('D:/Excel/facebook.xlsx', 'D:/Excel/outros/facebook.xlsx')"
   ]
  },
  {
   "cell_type": "code",
   "execution_count": 6,
   "metadata": {},
   "outputs": [
    {
     "data": {
      "text/plain": [
       "\"\\ngoogles = glob.glob('D:/Excel/google*.xlsx')\\n\\nfor google in googles:\\n    print(google)\\n\""
      ]
     },
     "execution_count": 6,
     "metadata": {},
     "output_type": "execute_result"
    }
   ],
   "source": [
    "'''\n",
    "googles = glob.glob('D:/Excel/google*.xlsx')\n",
    "\n",
    "for google in googles:\n",
    "    print(google)\n",
    "'''"
   ]
  },
  {
   "cell_type": "code",
   "execution_count": 7,
   "metadata": {},
   "outputs": [],
   "source": [
    "#Script final para mover os arquivos baseado em filtro específico\n",
    "\n",
    "source_dir = 'D:/Excel' #Caminho onde seus arquivos estão no momento\n",
    "dst = 'D:/Excel/outros' #Caminho para o qual você deseja mover seus arquivos\n",
    "\n",
    "files = glob.glob(os.path.join(source_dir, \"google*.xlsx\")) #Junte-se a vários componentes de caminho \n",
    "\n",
    "for file in files:\n",
    "    if os.path.isfile(file):      #Este método retorna True se o caminho especificado for um arquivo regular existente, caso contrário, retorna False.\n",
    "        shutil.copy2(file, dst)   #Copia os arquivos para o diretório "
   ]
  },
  {
   "cell_type": "code",
   "execution_count": null,
   "metadata": {},
   "outputs": [],
   "source": []
  }
 ],
 "metadata": {
  "kernelspec": {
   "display_name": "Python 3",
   "language": "python",
   "name": "python3"
  },
  "language_info": {
   "codemirror_mode": {
    "name": "ipython",
    "version": 3
   },
   "file_extension": ".py",
   "mimetype": "text/x-python",
   "name": "python",
   "nbconvert_exporter": "python",
   "pygments_lexer": "ipython3",
   "version": "3.7.4"
  }
 },
 "nbformat": 4,
 "nbformat_minor": 2
}
